{
 "cells": [
  {
   "cell_type": "code",
   "execution_count": 84,
   "metadata": {},
   "outputs": [],
   "source": [
    "import numpy as np \n",
    "import pandas as pd\n",
    "import os\n",
    "import underthesea"
   ]
  },
  {
   "cell_type": "code",
   "execution_count": 85,
   "metadata": {},
   "outputs": [],
   "source": [
    "dataset_path = r\"E:\\BACHKHOA\\2023_2\\Mica\\ViTBERT\\Ban đầu\\TBIproject-Paraclinical_DATA_2024-02-27_2125.csv\"\n",
    "dataset = pd.read_csv(dataset_path)"
   ]
  },
  {
   "cell_type": "code",
   "execution_count": 86,
   "metadata": {},
   "outputs": [
    {
     "data": {
      "text/html": [
       "<div>\n",
       "<style scoped>\n",
       "    .dataframe tbody tr th:only-of-type {\n",
       "        vertical-align: middle;\n",
       "    }\n",
       "\n",
       "    .dataframe tbody tr th {\n",
       "        vertical-align: top;\n",
       "    }\n",
       "\n",
       "    .dataframe thead th {\n",
       "        text-align: right;\n",
       "    }\n",
       "</style>\n",
       "<table border=\"1\" class=\"dataframe\">\n",
       "  <thead>\n",
       "    <tr style=\"text-align: right;\">\n",
       "      <th></th>\n",
       "      <th>record_id</th>\n",
       "      <th>redcap_event_name</th>\n",
       "      <th>redcap_repeat_instrument</th>\n",
       "      <th>redcap_repeat_instance</th>\n",
       "      <th>time_start_survey_pt</th>\n",
       "      <th>hong_cau_v2</th>\n",
       "      <th>bach_cau_v2</th>\n",
       "      <th>tieu_cau_v2</th>\n",
       "      <th>d_1_hst</th>\n",
       "      <th>ethanol</th>\n",
       "      <th>...</th>\n",
       "      <th>d_kl_cd_2</th>\n",
       "      <th>d_kl_tl</th>\n",
       "      <th>d_kl_xu_tri</th>\n",
       "      <th>d_kl_xu_tri_2</th>\n",
       "      <th>ppm</th>\n",
       "      <th>d_kl_cd_3</th>\n",
       "      <th>d_status</th>\n",
       "      <th>status_demographics_4</th>\n",
       "      <th>status_describe_unclear_4</th>\n",
       "      <th>paraclinical_tests_complete</th>\n",
       "    </tr>\n",
       "  </thead>\n",
       "  <tbody>\n",
       "    <tr>\n",
       "      <th>0</th>\n",
       "      <td>1</td>\n",
       "      <td>thu_benh_an_arm_1</td>\n",
       "      <td>paraclinical_tests</td>\n",
       "      <td>1</td>\n",
       "      <td>NaN</td>\n",
       "      <td>NaN</td>\n",
       "      <td>NaN</td>\n",
       "      <td>NaN</td>\n",
       "      <td>131.0</td>\n",
       "      <td>NaN</td>\n",
       "      <td>...</td>\n",
       "      <td>NaN</td>\n",
       "      <td>NaN</td>\n",
       "      <td>NaN</td>\n",
       "      <td>NaN</td>\n",
       "      <td>NaN</td>\n",
       "      <td>NaN</td>\n",
       "      <td>1.0</td>\n",
       "      <td>NaN</td>\n",
       "      <td>NaN</td>\n",
       "      <td>2.0</td>\n",
       "    </tr>\n",
       "    <tr>\n",
       "      <th>1</th>\n",
       "      <td>1</td>\n",
       "      <td>thu_benh_an_arm_1</td>\n",
       "      <td>paraclinical_tests</td>\n",
       "      <td>2</td>\n",
       "      <td>NaN</td>\n",
       "      <td>NaN</td>\n",
       "      <td>NaN</td>\n",
       "      <td>NaN</td>\n",
       "      <td>131.0</td>\n",
       "      <td>NaN</td>\n",
       "      <td>...</td>\n",
       "      <td>NaN</td>\n",
       "      <td>NaN</td>\n",
       "      <td>NaN</td>\n",
       "      <td>NaN</td>\n",
       "      <td>NaN</td>\n",
       "      <td>NaN</td>\n",
       "      <td>1.0</td>\n",
       "      <td>NaN</td>\n",
       "      <td>NaN</td>\n",
       "      <td>2.0</td>\n",
       "    </tr>\n",
       "    <tr>\n",
       "      <th>2</th>\n",
       "      <td>1</td>\n",
       "      <td>thu_benh_an_arm_1</td>\n",
       "      <td>demographics</td>\n",
       "      <td>1</td>\n",
       "      <td>NaN</td>\n",
       "      <td>NaN</td>\n",
       "      <td>NaN</td>\n",
       "      <td>NaN</td>\n",
       "      <td>NaN</td>\n",
       "      <td>NaN</td>\n",
       "      <td>...</td>\n",
       "      <td>NaN</td>\n",
       "      <td>NaN</td>\n",
       "      <td>NaN</td>\n",
       "      <td>NaN</td>\n",
       "      <td>NaN</td>\n",
       "      <td>NaN</td>\n",
       "      <td>NaN</td>\n",
       "      <td>NaN</td>\n",
       "      <td>NaN</td>\n",
       "      <td>NaN</td>\n",
       "    </tr>\n",
       "    <tr>\n",
       "      <th>3</th>\n",
       "      <td>2</td>\n",
       "      <td>thu_benh_an_arm_1</td>\n",
       "      <td>paraclinical_tests</td>\n",
       "      <td>1</td>\n",
       "      <td>NaN</td>\n",
       "      <td>NaN</td>\n",
       "      <td>NaN</td>\n",
       "      <td>NaN</td>\n",
       "      <td>143.0</td>\n",
       "      <td>NaN</td>\n",
       "      <td>...</td>\n",
       "      <td>NaN</td>\n",
       "      <td>NaN</td>\n",
       "      <td>NaN</td>\n",
       "      <td>NaN</td>\n",
       "      <td>NaN</td>\n",
       "      <td>NaN</td>\n",
       "      <td>2.0</td>\n",
       "      <td>NaN</td>\n",
       "      <td>NaN</td>\n",
       "      <td>2.0</td>\n",
       "    </tr>\n",
       "    <tr>\n",
       "      <th>4</th>\n",
       "      <td>2</td>\n",
       "      <td>thu_benh_an_arm_1</td>\n",
       "      <td>demographics</td>\n",
       "      <td>1</td>\n",
       "      <td>NaN</td>\n",
       "      <td>NaN</td>\n",
       "      <td>NaN</td>\n",
       "      <td>NaN</td>\n",
       "      <td>NaN</td>\n",
       "      <td>NaN</td>\n",
       "      <td>...</td>\n",
       "      <td>NaN</td>\n",
       "      <td>NaN</td>\n",
       "      <td>NaN</td>\n",
       "      <td>NaN</td>\n",
       "      <td>NaN</td>\n",
       "      <td>NaN</td>\n",
       "      <td>NaN</td>\n",
       "      <td>NaN</td>\n",
       "      <td>NaN</td>\n",
       "      <td>NaN</td>\n",
       "    </tr>\n",
       "  </tbody>\n",
       "</table>\n",
       "<p>5 rows × 33 columns</p>\n",
       "</div>"
      ],
      "text/plain": [
       "   record_id  redcap_event_name redcap_repeat_instrument  \\\n",
       "0          1  thu_benh_an_arm_1       paraclinical_tests   \n",
       "1          1  thu_benh_an_arm_1       paraclinical_tests   \n",
       "2          1  thu_benh_an_arm_1             demographics   \n",
       "3          2  thu_benh_an_arm_1       paraclinical_tests   \n",
       "4          2  thu_benh_an_arm_1             demographics   \n",
       "\n",
       "   redcap_repeat_instance time_start_survey_pt  hong_cau_v2  bach_cau_v2  \\\n",
       "0                       1                  NaN          NaN          NaN   \n",
       "1                       2                  NaN          NaN          NaN   \n",
       "2                       1                  NaN          NaN          NaN   \n",
       "3                       1                  NaN          NaN          NaN   \n",
       "4                       1                  NaN          NaN          NaN   \n",
       "\n",
       "   tieu_cau_v2  d_1_hst  ethanol  ...  d_kl_cd_2  d_kl_tl  d_kl_xu_tri  \\\n",
       "0          NaN    131.0      NaN  ...        NaN      NaN          NaN   \n",
       "1          NaN    131.0      NaN  ...        NaN      NaN          NaN   \n",
       "2          NaN      NaN      NaN  ...        NaN      NaN          NaN   \n",
       "3          NaN    143.0      NaN  ...        NaN      NaN          NaN   \n",
       "4          NaN      NaN      NaN  ...        NaN      NaN          NaN   \n",
       "\n",
       "   d_kl_xu_tri_2  ppm  d_kl_cd_3  d_status  status_demographics_4  \\\n",
       "0            NaN  NaN        NaN       1.0                    NaN   \n",
       "1            NaN  NaN        NaN       1.0                    NaN   \n",
       "2            NaN  NaN        NaN       NaN                    NaN   \n",
       "3            NaN  NaN        NaN       2.0                    NaN   \n",
       "4            NaN  NaN        NaN       NaN                    NaN   \n",
       "\n",
       "   status_describe_unclear_4  paraclinical_tests_complete  \n",
       "0                        NaN                          2.0  \n",
       "1                        NaN                          2.0  \n",
       "2                        NaN                          NaN  \n",
       "3                        NaN                          2.0  \n",
       "4                        NaN                          NaN  \n",
       "\n",
       "[5 rows x 33 columns]"
      ]
     },
     "execution_count": 86,
     "metadata": {},
     "output_type": "execute_result"
    }
   ],
   "source": [
    "dataset.head()"
   ]
  },
  {
   "cell_type": "code",
   "execution_count": 87,
   "metadata": {},
   "outputs": [
    {
     "data": {
      "text/html": [
       "<div>\n",
       "<style scoped>\n",
       "    .dataframe tbody tr th:only-of-type {\n",
       "        vertical-align: middle;\n",
       "    }\n",
       "\n",
       "    .dataframe tbody tr th {\n",
       "        vertical-align: top;\n",
       "    }\n",
       "\n",
       "    .dataframe thead th {\n",
       "        text-align: right;\n",
       "    }\n",
       "</style>\n",
       "<table border=\"1\" class=\"dataframe\">\n",
       "  <thead>\n",
       "    <tr style=\"text-align: right;\">\n",
       "      <th></th>\n",
       "      <th>record_id</th>\n",
       "      <th>redcap_repeat_instance</th>\n",
       "      <th>hong_cau_v2</th>\n",
       "      <th>bach_cau_v2</th>\n",
       "      <th>tieu_cau_v2</th>\n",
       "      <th>d_1_hst</th>\n",
       "      <th>ethanol</th>\n",
       "      <th>ast_v2</th>\n",
       "      <th>alt_v2</th>\n",
       "      <th>d_2_protein</th>\n",
       "      <th>...</th>\n",
       "      <th>d_3_aptt</th>\n",
       "      <th>d_4_dtim</th>\n",
       "      <th>d_5_na</th>\n",
       "      <th>d_5_k</th>\n",
       "      <th>d_5_cl</th>\n",
       "      <th>d_kl_tl</th>\n",
       "      <th>d_status</th>\n",
       "      <th>status_demographics_4</th>\n",
       "      <th>status_describe_unclear_4</th>\n",
       "      <th>paraclinical_tests_complete</th>\n",
       "    </tr>\n",
       "  </thead>\n",
       "  <tbody>\n",
       "    <tr>\n",
       "      <th>count</th>\n",
       "      <td>867.000000</td>\n",
       "      <td>867.000000</td>\n",
       "      <td>372.000000</td>\n",
       "      <td>372.000000</td>\n",
       "      <td>372.000000</td>\n",
       "      <td>370.000000</td>\n",
       "      <td>170.000000</td>\n",
       "      <td>371.000000</td>\n",
       "      <td>369.000000</td>\n",
       "      <td>368.000000</td>\n",
       "      <td>...</td>\n",
       "      <td>360.000000</td>\n",
       "      <td>305.000000</td>\n",
       "      <td>369.000000</td>\n",
       "      <td>366.000000</td>\n",
       "      <td>366.000000</td>\n",
       "      <td>348.000000</td>\n",
       "      <td>36.000000</td>\n",
       "      <td>352.000000</td>\n",
       "      <td>0.0</td>\n",
       "      <td>390.000000</td>\n",
       "    </tr>\n",
       "    <tr>\n",
       "      <th>mean</th>\n",
       "      <td>254.080738</td>\n",
       "      <td>1.001153</td>\n",
       "      <td>5.936720</td>\n",
       "      <td>15.219543</td>\n",
       "      <td>239.971774</td>\n",
       "      <td>525.802432</td>\n",
       "      <td>63.993412</td>\n",
       "      <td>58.305809</td>\n",
       "      <td>38.023767</td>\n",
       "      <td>75.643533</td>\n",
       "      <td>...</td>\n",
       "      <td>33.255361</td>\n",
       "      <td>1.009836</td>\n",
       "      <td>137.956883</td>\n",
       "      <td>3.671311</td>\n",
       "      <td>101.044781</td>\n",
       "      <td>2.356322</td>\n",
       "      <td>1.583333</td>\n",
       "      <td>1.122159</td>\n",
       "      <td>NaN</td>\n",
       "      <td>1.989744</td>\n",
       "    </tr>\n",
       "    <tr>\n",
       "      <th>std</th>\n",
       "      <td>132.424960</td>\n",
       "      <td>0.033962</td>\n",
       "      <td>24.420619</td>\n",
       "      <td>12.385981</td>\n",
       "      <td>74.058895</td>\n",
       "      <td>7486.304059</td>\n",
       "      <td>93.537084</td>\n",
       "      <td>65.569617</td>\n",
       "      <td>44.298491</td>\n",
       "      <td>37.728590</td>\n",
       "      <td>...</td>\n",
       "      <td>34.881036</td>\n",
       "      <td>0.098850</td>\n",
       "      <td>3.208050</td>\n",
       "      <td>2.176860</td>\n",
       "      <td>15.336208</td>\n",
       "      <td>0.731774</td>\n",
       "      <td>0.554205</td>\n",
       "      <td>0.353038</td>\n",
       "      <td>NaN</td>\n",
       "      <td>0.143039</td>\n",
       "    </tr>\n",
       "    <tr>\n",
       "      <th>min</th>\n",
       "      <td>1.000000</td>\n",
       "      <td>1.000000</td>\n",
       "      <td>1.360000</td>\n",
       "      <td>1.000000</td>\n",
       "      <td>13.000000</td>\n",
       "      <td>14.000000</td>\n",
       "      <td>0.000000</td>\n",
       "      <td>12.410000</td>\n",
       "      <td>3.480000</td>\n",
       "      <td>4.880000</td>\n",
       "      <td>...</td>\n",
       "      <td>0.900000</td>\n",
       "      <td>1.000000</td>\n",
       "      <td>116.000000</td>\n",
       "      <td>0.000000</td>\n",
       "      <td>0.500000</td>\n",
       "      <td>1.000000</td>\n",
       "      <td>1.000000</td>\n",
       "      <td>1.000000</td>\n",
       "      <td>NaN</td>\n",
       "      <td>0.000000</td>\n",
       "    </tr>\n",
       "    <tr>\n",
       "      <th>25%</th>\n",
       "      <td>146.500000</td>\n",
       "      <td>1.000000</td>\n",
       "      <td>4.217500</td>\n",
       "      <td>10.200000</td>\n",
       "      <td>195.000000</td>\n",
       "      <td>129.000000</td>\n",
       "      <td>0.000000</td>\n",
       "      <td>28.985000</td>\n",
       "      <td>18.440000</td>\n",
       "      <td>70.000000</td>\n",
       "      <td>...</td>\n",
       "      <td>26.700000</td>\n",
       "      <td>1.000000</td>\n",
       "      <td>136.500000</td>\n",
       "      <td>3.320000</td>\n",
       "      <td>101.000000</td>\n",
       "      <td>2.000000</td>\n",
       "      <td>1.000000</td>\n",
       "      <td>1.000000</td>\n",
       "      <td>NaN</td>\n",
       "      <td>2.000000</td>\n",
       "    </tr>\n",
       "    <tr>\n",
       "      <th>50%</th>\n",
       "      <td>257.000000</td>\n",
       "      <td>1.000000</td>\n",
       "      <td>4.640000</td>\n",
       "      <td>13.550000</td>\n",
       "      <td>239.000000</td>\n",
       "      <td>138.000000</td>\n",
       "      <td>0.000000</td>\n",
       "      <td>37.310000</td>\n",
       "      <td>26.000000</td>\n",
       "      <td>74.355000</td>\n",
       "      <td>...</td>\n",
       "      <td>29.000000</td>\n",
       "      <td>1.000000</td>\n",
       "      <td>138.000000</td>\n",
       "      <td>3.555000</td>\n",
       "      <td>103.150000</td>\n",
       "      <td>2.000000</td>\n",
       "      <td>2.000000</td>\n",
       "      <td>1.000000</td>\n",
       "      <td>NaN</td>\n",
       "      <td>2.000000</td>\n",
       "    </tr>\n",
       "    <tr>\n",
       "      <th>75%</th>\n",
       "      <td>367.500000</td>\n",
       "      <td>1.000000</td>\n",
       "      <td>5.012500</td>\n",
       "      <td>17.247500</td>\n",
       "      <td>284.250000</td>\n",
       "      <td>148.000000</td>\n",
       "      <td>143.922500</td>\n",
       "      <td>54.900000</td>\n",
       "      <td>39.000000</td>\n",
       "      <td>78.667500</td>\n",
       "      <td>...</td>\n",
       "      <td>31.600000</td>\n",
       "      <td>1.000000</td>\n",
       "      <td>140.000000</td>\n",
       "      <td>3.837500</td>\n",
       "      <td>105.600000</td>\n",
       "      <td>3.000000</td>\n",
       "      <td>2.000000</td>\n",
       "      <td>1.000000</td>\n",
       "      <td>NaN</td>\n",
       "      <td>2.000000</td>\n",
       "    </tr>\n",
       "    <tr>\n",
       "      <th>max</th>\n",
       "      <td>478.000000</td>\n",
       "      <td>2.000000</td>\n",
       "      <td>475.000000</td>\n",
       "      <td>146.000000</td>\n",
       "      <td>500.000000</td>\n",
       "      <td>144138.000000</td>\n",
       "      <td>310.160000</td>\n",
       "      <td>539.000000</td>\n",
       "      <td>482.520000</td>\n",
       "      <td>776.000000</td>\n",
       "      <td>...</td>\n",
       "      <td>333.000000</td>\n",
       "      <td>2.000000</td>\n",
       "      <td>148.000000</td>\n",
       "      <td>44.000000</td>\n",
       "      <td>128.100000</td>\n",
       "      <td>4.000000</td>\n",
       "      <td>3.000000</td>\n",
       "      <td>4.000000</td>\n",
       "      <td>NaN</td>\n",
       "      <td>2.000000</td>\n",
       "    </tr>\n",
       "  </tbody>\n",
       "</table>\n",
       "<p>8 rows × 24 columns</p>\n",
       "</div>"
      ],
      "text/plain": [
       "        record_id  redcap_repeat_instance  hong_cau_v2  bach_cau_v2  \\\n",
       "count  867.000000              867.000000   372.000000   372.000000   \n",
       "mean   254.080738                1.001153     5.936720    15.219543   \n",
       "std    132.424960                0.033962    24.420619    12.385981   \n",
       "min      1.000000                1.000000     1.360000     1.000000   \n",
       "25%    146.500000                1.000000     4.217500    10.200000   \n",
       "50%    257.000000                1.000000     4.640000    13.550000   \n",
       "75%    367.500000                1.000000     5.012500    17.247500   \n",
       "max    478.000000                2.000000   475.000000   146.000000   \n",
       "\n",
       "       tieu_cau_v2        d_1_hst     ethanol      ast_v2      alt_v2  \\\n",
       "count   372.000000     370.000000  170.000000  371.000000  369.000000   \n",
       "mean    239.971774     525.802432   63.993412   58.305809   38.023767   \n",
       "std      74.058895    7486.304059   93.537084   65.569617   44.298491   \n",
       "min      13.000000      14.000000    0.000000   12.410000    3.480000   \n",
       "25%     195.000000     129.000000    0.000000   28.985000   18.440000   \n",
       "50%     239.000000     138.000000    0.000000   37.310000   26.000000   \n",
       "75%     284.250000     148.000000  143.922500   54.900000   39.000000   \n",
       "max     500.000000  144138.000000  310.160000  539.000000  482.520000   \n",
       "\n",
       "       d_2_protein  ...    d_3_aptt    d_4_dtim      d_5_na       d_5_k  \\\n",
       "count   368.000000  ...  360.000000  305.000000  369.000000  366.000000   \n",
       "mean     75.643533  ...   33.255361    1.009836  137.956883    3.671311   \n",
       "std      37.728590  ...   34.881036    0.098850    3.208050    2.176860   \n",
       "min       4.880000  ...    0.900000    1.000000  116.000000    0.000000   \n",
       "25%      70.000000  ...   26.700000    1.000000  136.500000    3.320000   \n",
       "50%      74.355000  ...   29.000000    1.000000  138.000000    3.555000   \n",
       "75%      78.667500  ...   31.600000    1.000000  140.000000    3.837500   \n",
       "max     776.000000  ...  333.000000    2.000000  148.000000   44.000000   \n",
       "\n",
       "           d_5_cl     d_kl_tl   d_status  status_demographics_4  \\\n",
       "count  366.000000  348.000000  36.000000             352.000000   \n",
       "mean   101.044781    2.356322   1.583333               1.122159   \n",
       "std     15.336208    0.731774   0.554205               0.353038   \n",
       "min      0.500000    1.000000   1.000000               1.000000   \n",
       "25%    101.000000    2.000000   1.000000               1.000000   \n",
       "50%    103.150000    2.000000   2.000000               1.000000   \n",
       "75%    105.600000    3.000000   2.000000               1.000000   \n",
       "max    128.100000    4.000000   3.000000               4.000000   \n",
       "\n",
       "       status_describe_unclear_4  paraclinical_tests_complete  \n",
       "count                        0.0                   390.000000  \n",
       "mean                         NaN                     1.989744  \n",
       "std                          NaN                     0.143039  \n",
       "min                          NaN                     0.000000  \n",
       "25%                          NaN                     2.000000  \n",
       "50%                          NaN                     2.000000  \n",
       "75%                          NaN                     2.000000  \n",
       "max                          NaN                     2.000000  \n",
       "\n",
       "[8 rows x 24 columns]"
      ]
     },
     "execution_count": 87,
     "metadata": {},
     "output_type": "execute_result"
    }
   ],
   "source": [
    "dataset.describe()"
   ]
  },
  {
   "cell_type": "code",
   "execution_count": 88,
   "metadata": {},
   "outputs": [
    {
     "data": {
      "text/plain": [
       "record_id                        int64\n",
       "redcap_event_name               object\n",
       "redcap_repeat_instrument        object\n",
       "redcap_repeat_instance           int64\n",
       "time_start_survey_pt            object\n",
       "hong_cau_v2                    float64\n",
       "bach_cau_v2                    float64\n",
       "tieu_cau_v2                    float64\n",
       "d_1_hst                        float64\n",
       "ethanol                        float64\n",
       "ast_v2                         float64\n",
       "alt_v2                         float64\n",
       "d_2_protein                    float64\n",
       "albumin_v2                     float64\n",
       "ure_v2                         float64\n",
       "creatinin_v2                   float64\n",
       "prothrombin_v2                 float64\n",
       "d_3_aptt                       float64\n",
       "d_4_dtim                       float64\n",
       "d_5_na                         float64\n",
       "d_5_k                          float64\n",
       "d_5_cl                         float64\n",
       "d_kl_cd                         object\n",
       "d_kl_cd_2                       object\n",
       "d_kl_tl                        float64\n",
       "d_kl_xu_tri                     object\n",
       "d_kl_xu_tri_2                   object\n",
       "ppm                             object\n",
       "d_kl_cd_3                       object\n",
       "d_status                       float64\n",
       "status_demographics_4          float64\n",
       "status_describe_unclear_4      float64\n",
       "paraclinical_tests_complete    float64\n",
       "dtype: object"
      ]
     },
     "execution_count": 88,
     "metadata": {},
     "output_type": "execute_result"
    }
   ],
   "source": [
    "dataset.dtypes"
   ]
  },
  {
   "cell_type": "code",
   "execution_count": 89,
   "metadata": {},
   "outputs": [
    {
     "data": {
      "text/plain": [
       "[dtype('int64'),\n",
       " dtype('O'),\n",
       " dtype('O'),\n",
       " dtype('int64'),\n",
       " dtype('O'),\n",
       " dtype('float64'),\n",
       " dtype('float64'),\n",
       " dtype('float64'),\n",
       " dtype('float64'),\n",
       " dtype('float64'),\n",
       " dtype('float64'),\n",
       " dtype('float64'),\n",
       " dtype('float64'),\n",
       " dtype('float64'),\n",
       " dtype('float64'),\n",
       " dtype('float64'),\n",
       " dtype('float64'),\n",
       " dtype('float64'),\n",
       " dtype('float64'),\n",
       " dtype('float64'),\n",
       " dtype('float64'),\n",
       " dtype('float64'),\n",
       " dtype('O'),\n",
       " dtype('O'),\n",
       " dtype('float64'),\n",
       " dtype('O'),\n",
       " dtype('O'),\n",
       " dtype('O'),\n",
       " dtype('O'),\n",
       " dtype('float64'),\n",
       " dtype('float64'),\n",
       " dtype('float64'),\n",
       " dtype('float64')]"
      ]
     },
     "execution_count": 89,
     "metadata": {},
     "output_type": "execute_result"
    }
   ],
   "source": [
    "list(dataset.dtypes)"
   ]
  },
  {
   "cell_type": "code",
   "execution_count": 90,
   "metadata": {},
   "outputs": [
    {
     "data": {
      "text/plain": [
       "Index(['record_id', 'redcap_event_name', 'redcap_repeat_instrument',\n",
       "       'redcap_repeat_instance', 'time_start_survey_pt', 'hong_cau_v2',\n",
       "       'bach_cau_v2', 'tieu_cau_v2', 'd_1_hst', 'ethanol', 'ast_v2', 'alt_v2',\n",
       "       'd_2_protein', 'albumin_v2', 'ure_v2', 'creatinin_v2', 'prothrombin_v2',\n",
       "       'd_3_aptt', 'd_4_dtim', 'd_5_na', 'd_5_k', 'd_5_cl', 'd_kl_cd',\n",
       "       'd_kl_cd_2', 'd_kl_tl', 'd_kl_xu_tri', 'd_kl_xu_tri_2', 'ppm',\n",
       "       'd_kl_cd_3', 'd_status', 'status_demographics_4',\n",
       "       'status_describe_unclear_4', 'paraclinical_tests_complete'],\n",
       "      dtype='object')"
      ]
     },
     "execution_count": 90,
     "metadata": {},
     "output_type": "execute_result"
    }
   ],
   "source": [
    "dataset.columns"
   ]
  },
  {
   "cell_type": "code",
   "execution_count": 91,
   "metadata": {},
   "outputs": [
    {
     "name": "stdout",
     "output_type": "stream",
     "text": [
      "['redcap_event_name', 'redcap_repeat_instrument', 'time_start_survey_pt', 'd_kl_cd', 'd_kl_cd_2', 'd_kl_xu_tri', 'd_kl_xu_tri_2', 'ppm', 'd_kl_cd_3', 'd_kl_tl']\n"
     ]
    }
   ],
   "source": [
    "import pandas as pd\n",
    "\n",
    "# Assuming you have a DataFrame named df\n",
    "# You can select columns that have dtype 'object' and print their names like this:\n",
    "object_columns = dataset.select_dtypes(include=['object']).columns\n",
    "ls = list(object_columns)\n",
    "ls.append(\"d_kl_tl\")\n",
    "print(ls)\n",
    "  "
   ]
  },
  {
   "cell_type": "code",
   "execution_count": 92,
   "metadata": {},
   "outputs": [],
   "source": [
    "dataset_new = dataset[ls]\n"
   ]
  },
  {
   "cell_type": "code",
   "execution_count": 93,
   "metadata": {},
   "outputs": [
    {
     "data": {
      "text/html": [
       "<div>\n",
       "<style scoped>\n",
       "    .dataframe tbody tr th:only-of-type {\n",
       "        vertical-align: middle;\n",
       "    }\n",
       "\n",
       "    .dataframe tbody tr th {\n",
       "        vertical-align: top;\n",
       "    }\n",
       "\n",
       "    .dataframe thead th {\n",
       "        text-align: right;\n",
       "    }\n",
       "</style>\n",
       "<table border=\"1\" class=\"dataframe\">\n",
       "  <thead>\n",
       "    <tr style=\"text-align: right;\">\n",
       "      <th></th>\n",
       "      <th>d_kl_tl</th>\n",
       "    </tr>\n",
       "  </thead>\n",
       "  <tbody>\n",
       "    <tr>\n",
       "      <th>count</th>\n",
       "      <td>348.000000</td>\n",
       "    </tr>\n",
       "    <tr>\n",
       "      <th>mean</th>\n",
       "      <td>2.356322</td>\n",
       "    </tr>\n",
       "    <tr>\n",
       "      <th>std</th>\n",
       "      <td>0.731774</td>\n",
       "    </tr>\n",
       "    <tr>\n",
       "      <th>min</th>\n",
       "      <td>1.000000</td>\n",
       "    </tr>\n",
       "    <tr>\n",
       "      <th>25%</th>\n",
       "      <td>2.000000</td>\n",
       "    </tr>\n",
       "    <tr>\n",
       "      <th>50%</th>\n",
       "      <td>2.000000</td>\n",
       "    </tr>\n",
       "    <tr>\n",
       "      <th>75%</th>\n",
       "      <td>3.000000</td>\n",
       "    </tr>\n",
       "    <tr>\n",
       "      <th>max</th>\n",
       "      <td>4.000000</td>\n",
       "    </tr>\n",
       "  </tbody>\n",
       "</table>\n",
       "</div>"
      ],
      "text/plain": [
       "          d_kl_tl\n",
       "count  348.000000\n",
       "mean     2.356322\n",
       "std      0.731774\n",
       "min      1.000000\n",
       "25%      2.000000\n",
       "50%      2.000000\n",
       "75%      3.000000\n",
       "max      4.000000"
      ]
     },
     "execution_count": 93,
     "metadata": {},
     "output_type": "execute_result"
    }
   ],
   "source": [
    "dataset_new.describe()"
   ]
  },
  {
   "cell_type": "code",
   "execution_count": 94,
   "metadata": {},
   "outputs": [
    {
     "name": "stdout",
     "output_type": "stream",
     "text": [
      "##Value counts for redcap_event_name:##\n",
      "redcap_event_name\n",
      "thu_benh_an_arm_1    867\n",
      "Name: count, dtype: int64\n",
      "\n",
      "\n",
      "##Value counts for redcap_repeat_instrument:##\n",
      "redcap_repeat_instrument\n",
      "demographics          477\n",
      "paraclinical_tests    390\n",
      "Name: count, dtype: int64\n",
      "\n",
      "\n",
      "##Value counts for time_start_survey_pt:##\n",
      "time_start_survey_pt\n",
      "2023-12-04 22:05:13    1\n",
      "2023-12-04 22:15:19    1\n",
      "2024-02-16 14:37:34    1\n",
      "2024-02-16 14:22:35    1\n",
      "2024-02-16 14:14:51    1\n",
      "                      ..\n",
      "2024-01-26 23:38:29    1\n",
      "2024-01-26 23:28:20    1\n",
      "2024-01-26 22:59:49    1\n",
      "2024-01-26 22:40:06    1\n",
      "2024-02-25 09:52:57    1\n",
      "Name: count, Length: 352, dtype: int64\n",
      "\n",
      "\n",
      "##Value counts for d_kl_cd:##\n",
      "d_kl_cd\n",
      "Chấn thương sọ não: Máu tụ dưới màng cứng thái dương phải do ngã ngày 2                                                                                    1\n",
      "CTSN: MTDMC bán cầu T, XHDN lan tỏa bán cầu T, lều tiểu não T do ngã G2                                                                                    1\n",
      "CĐ: CTSN: DNXH trán (T), vỡ xương trán+ nền sọ trước+ thành hốc mắt + thành xoang hàm bên (T), Tụ khí nội sọ trán (T), VTPM vùng trán do TNGT giờ thứ 3    1\n",
      "CTSN: MTDMC trán (P), gãy CTGM (T), vỡ thành xoang hàm hai bên, vỡ thành ngoài hốc mắt phải, GK 1/3 dưới xương cánh tay trái do TNGT giờ thứ 2             1\n",
      "CTSN: MTTN,  DNXH trán P, MTDMC trán TD 2 bên, XHDN trán P + liềm đại não. Sai khớp háng P, vết thương do TNGT G5 / THA, ĐTĐ                               1\n",
      "CTSN: MTNMC trán P + chẩm T, MTDMC mỏng bán cầu P, DNXH thái dương T, XHDN, TKNS, vỡ xương chẩm + hố sọ sau T, VTPM chẩm T do ngã                          1\n",
      "Name: count, dtype: int64\n",
      "\n",
      "\n",
      "##Value counts for d_kl_cd_2:##\n",
      "d_kl_cd_2\n",
      "Chấn động não do TNGT G2                                                                                                                                                                                                                                                      4\n",
      "CTSN: MTTN,  DNXH trán P, MTDMC trán TD 2 bên, XHDN trán P + liềm đại não. Sai khớp háng P, vết thương do TNGT G5 / THA, ĐTĐ                                                                                                                                                  1\n",
      "CTSN: MTNMC trán - thái dương P, TKNS, vỡ xương bướm P, vỡ xương thái dương 2 bên + nền sọ giữa T, vỡ xương trán + trần hốc mắt + nền sọ trước P , gãy hở độ I 1/3 giữa 2 xương cẳng chân phải  do tai nạn giao thông G2                                                      1\n",
      "XHDN trán 2 bên+ đỉnh phải, Vỡ xương đỉnh 2 bên, xương thái dương phải lan vào xương đá phải, TKNS do TNGT G2                                                                                                                                                                 1\n",
      "Chấn thương sọ não: xuất huyết dưới nhện thùy đảo, thái dương phải và  trán trái; Vỡ xương trán, Gãy xương hàm trên + thành ổ mắt + thành xoang hàm + xương mũi; vết thương rách da cung mày trái + mi trên trái + môi trên, gãy răng 4.1 do tai nạn giao thông giờ thứ 3     1\n",
      "                                                                                                                                                                                                                                                                             ..\n",
      "CTSN: Vỡ xương trán (T), bầm tím hốc mắt + cằm (T) do TNSH G11/ PT CTSN năm thứ 19                                                                                                                                                                                            1\n",
      "CTSN: máu tụ ngoài màng cứng + vỡ rạn xương sọ đỉnh phải, xây sát da gối 2 bên do tai nạn giao thông giờ thứ 3                                                                                                                                                                1\n",
      "CTSN: XHDN thái dương trái, VTPM vùng đỉnh trái + cằm do TNGT G3 đã khâu VT N2                                                                                                                                                                                                1\n",
      "CTSN: MTDMC 2 bán cầu, XHDN 2 bán cầu + lều TN + liềm ĐN,, MTMNC + DNXH chẩm P,  vỡ rạn xương chẩm P  + thành xoang bướm do ngã G2                                                                                                                                            1\n",
      "Đa chấn thương: Chấn thương sọ não: Máu tụ ngoài màng cứng thái dương đỉnh phải, vỡ xương thái dương phải; Chấn thương bụng kín do TNGT G6                                                                                                                                    1\n",
      "Name: count, Length: 310, dtype: int64\n",
      "\n",
      "\n",
      "##Value counts for d_kl_xu_tri:##\n",
      "d_kl_xu_tri\n",
      "Theo dõi sát ý thức, mạch, nhiệt độ, huyết áp. Chụp lại CLVT sọ não đánh giá tổn thương khi điểm Glasgow giảm hoặc khi có triệu chứng thần kinh khu trú                                                     2\n",
      "Theo dõi sát ý thức, mạch, nhiệt độ, huyết áp. Chụp lại CLVT sọ não đánh giá tổn thương sau 4h                                                                                                              1\n",
      "Theo dõi sát ý thức, mạch, nhiệt độ, huyết áp. Chụp lại CLVT sọ não đánh giá tổn thương sau 2- 4h. Chụp lại ngay CLVT sọ não khi có các dấu hiệu giảm ý thức hoặc xuất hiện trệu chứng thần kinh khu trú    1\n",
      "Phẫu thuật cấp cứu                                                                                                                                                                                          1\n",
      "Name: count, dtype: int64\n",
      "\n",
      "\n",
      "##Value counts for d_kl_xu_tri_2:##\n",
      "d_kl_xu_tri_2\n",
      "Bất động                                                                                                                                                                            6\n",
      "Theo dõi ý thức, mạch, nhiệt độ, huyết áp  Chụp lại CLVT sọ não khi ý thức giảm hoặc xuất hiện triệu chứng thần kinh khu trú.                                                       3\n",
      "Bất động, chống phù não, bổ thần kinh                                                                                                                                               3\n",
      "Điều trị bảo tồn sọ não                                                                                                                                                             3\n",
      "Phẫu thuật cấp cứu                                                                                                                                                                  1\n",
      "Bất động, chống phù não, bổ thần kinh, đặt gạc cầm máu vết thương phần mềm                                                                                                          1\n",
      "Phẫu thuật Volet sọ lấy máu tụ                                                                                                                                                      1\n",
      "PT nâng xương lún                                                                                                                                                                   1\n",
      " PT cấp cứu                                                                                                                                                                         1\n",
      "PT volet sọ lấy máu tụ                                                                                                                                                              1\n",
      "Bất động, thở oxy, chống phù não                                                                                                                                                    1\n",
      "Gia đình xin cho bệnh nhân về                                                                                                                                                       1\n",
      "Phẫu thuật                                                                                                                                                                          1\n",
      "Bất động, chống phù não                                                                                                                                                             1\n",
      "Khâu vết thương                                                                                                                                                                     1\n",
      "Bất động, chống phù não, bổ thần kinh                                                                                                                                               1\n",
      "Bất động, bổ thần kinh, chống phù não                                                                                                                                               1\n",
      "Bất động, chống phù não, bổ thần kinh, cố định chi gãy, giảm đau                                                                                                                    1\n",
      "Khâu vết thương phần mềm                                                                                                                                                            1\n",
      "Bất động, bổ thần kinh                                                                                                                                                              1\n",
      "Bất động                                                                                                                                                                            1\n",
      "Bất động, khâu VTPM                                                                                                                                                                 1\n",
      "Bất động  Kết xương                                                                                                                                                                 1\n",
      "Bất động  Phẫu thuật                                                                                                                                                                1\n",
      "Bất động  phẫu thuật                                                                                                                                                                1\n",
      "Bất động  Phẫu thuật kết xương                                                                                                                                                      1\n",
      "Bất động, chống phù não  Phẫu thuật                                                                                                                                                 1\n",
      "Bấtbđộng                                                                                                                                                                            1\n",
      "                                                                                                                                                                                    1\n",
      "Xử lí vết thương sọ não                                                                                                                                                             1\n",
      "Chấn thương sọ não: Dập não xuất huyết + xuất huyết dưới nhện thái dương phải, xuất huyết dưới nhện đỉnh phải. Vết thương phần mềm thái dương trái do tai nạn giao thông            1\n",
      "Điều trị bảo tồn sọ não. Chup lại CLVT sọ não khi có bất thương                                                                                                                     1\n",
      "Chụp lại CLVT sọ não sau 4h.  Theo dõi sát các dấu hiệu sinh tồn, các dấu hiệu thần kinh khu trú                                                                                    1\n",
      "Máu tụ dưới màng cứng mạn tính 2 bán cầu.                                                                                                                                           1\n",
      "Theo dõi ý thức, mạch, nhiệt độ, huyết áp  Chụp lại CLVT sọ não khi có dấu hiệu bất thường                                                                                          1\n",
      "Theo dõi sát ý thức, mạch, nhiệt độ, huyết áp   Chụp lại CLVT sọ não đánh giá tổn thương sau 4h hoặc khi bệnh nhân xuất hiện các triệu chứng rối loạn ý thức, thần kinh khu trú.    1\n",
      "Theo dõi ý thức, mạch, nhiệt độ, huyết áp  Chụp lại CLVT sọ não đánh giá tổn thương khi suy giảm ý thức, hoặc xuất hiện các triệu chứng thần kinh khu trú.                          1\n",
      "Theo dõi ý thức, mạch, nhiệt độ, huyết áp  Chụp lại CLVT sọ não nếu ý thức suy giảm hoặc xuất hiện các triệu chứng thần kinh khu trú.                                               1\n",
      "Theo dõi ý thức, mạch, nhiệt độ, huyết áp  Chụp lại CLVT sọ não đánh giá tổn thương khi ý thức giảm hoặc xuất hiện các dấu hiệu thần kinh khu trú                                   1\n",
      "Theo dõi ý thức, mạch, nhiệt độ, huyết áp  Chụp lại CLVT sọ não khi ý thức giảm hoặc xuất hiện triệu chứng thần kinh khu trú.                                                       1\n",
      "Theo dõi ý thức, mạch, nhiệt độ, huyết áp  Chụp lại CLVT sọ não khi ý thức giảm hoặc xuất hiện triệu chứng thần kinh khu trú.  Tầm soát các tổn thương phối hợp liên quan           1\n",
      "Phẫu thuật cấp cứu lấy máu tụ                                                                                                                                                       1\n",
      "Theo dõi sát bệnh nhân. Chụp lại CLVT sọ não sau 4h đánh giá tổn thương                                                                                                             1\n",
      "Theo dõi ý thức  Chụp lại CLVT sọ não khi có bất thường                                                                                                                             1\n",
      "điều trị bảo tồn sọ não                                                                                                                                                             1\n",
      "Điều trị bảo tồn sọ não, chụp lại cắt lớp vi tính khi có triệu chứng bất thường hoặc khi có rối loạn ý thức                                                                         1\n",
      "Phẫu thuật lấy máu tụ                                                                                                                                                               1\n",
      "Điều trị hồi sức, giải thích tình trạng với gia đình. Nguy cơ tử vong cao                                                                                                           1\n",
      "PT  bơm rửa máu tụ dẫn lưu kín bán cầu trái                                                                                                                                         1\n",
      "Điều trị bảo tồn sọ não. Theo dõi ý thức. Chụp lại CLVT sọ não đánh giá tổn thương khi có dấu hiệu bất thường về ý thức hoặc khi có dấu hiệu thần kinh khu trú...                   1\n",
      "Hồi sức tích cực. Chup lại CLVT sọ não sau 2-4 giờ đánh giá tổn thương                                                                                                              1\n",
      "Hồi sức tích cực. Chụp lại CLVT sọ não khi có bất thường                                                                                                                            1\n",
      "Hồi sức tích cực. Tầm soát tổn thương toàn thân                                                                                                                                     1\n",
      "Hồi sức tích cực                                                                                                                                                                    1\n",
      "Phẫu thuật cấp cứu Volet sọ lấy máu tụ.                                                                                                                                             1\n",
      "Bất động                                                                                                                                                                            1\n",
      "Name: count, dtype: int64\n",
      "\n",
      "\n",
      "##Value counts for ppm:##\n",
      "ppm\n",
      "Phẫu thuật Volet sọ lấy máu tụ.                         2\n",
      "Khâu vết thương phần mềm                                2\n",
      "Volet sọ lấy máu tụ                                     2\n",
      "phẫu thuật mở Volet sọ lấy máu tụ và tổ chức não dập    1\n",
      "Bơm rửa máu tụ, dẫn lưu kín ổ máu tụ                    1\n",
      "PT Volet sọ lấy máu tụ trán phải                        1\n",
      "PT  bơm rửa máu tụ dẫn lưu kín bán cầu trái             1\n",
      "Xử lí vết thương sọ não                                 1\n",
      "PT mở sọ giải áp bán cầu trái                           1\n",
      "Khâu vết thương phần mềm                                1\n",
      "khâu vết thương phần mềm                                1\n",
      "Khâu VTPM                                               1\n",
      "Name: count, dtype: int64\n",
      "\n",
      "\n",
      "##Value counts for d_kl_cd_3:##\n",
      "d_kl_cd_3\n",
      "Chấn động não do tai nạn giao thông                                                                                                                                                                                                                                 2\n",
      "CTSN: MTTN,  DNXH trán P, MTDMC trán TD 2 bên, XHDN trán P + liềm đại não. Sai khớp háng P, vết thương do TNGT G5 / THA, ĐTĐ.  Đã được phẫu thuật mở Volet sọ lấy máu tụ và tổ chức não dập N1.\u000b                                                                    1\n",
      "CTSN: MTNMC trán - thái dương P, TKNS, vỡ xương bướm P, vỡ xương thái dương 2 bên + nền sọ giữa T, vỡ xương trán + trần hốc mắt + nền sọ trước P , gãy hở độ I 1/3 giữa 2 xương cẳng chân phải  do tai nạn giao thông                                               1\n",
      "XHDN trán 2 bên+ đỉnh phải, Vỡ xương đỉnh 2 bên, xương thái dương phải lan vào xương đá phải, TKNS do TNGT                                                                                                                                                          1\n",
      "Chấn thương sọ não: xuất huyết dưới nhện thùy đảo, thái dương phải và  trán trái; Vỡ xương trán, Gãy xương hàm trên + thành ổ mắt + thành xoang hàm + xương mũi; vết thương rách da cung mày trái + mi trên trái + môi trên, gãy răng 4.1 do tai nạn giao thông     1\n",
      "                                                                                                                                                                                                                                                                   ..\n",
      "CTSN: Vỡ xương trán (T), bầm tím hốc mắt + cằm (T) do TNSH/ PT CTSN năm thứ 19                                                                                                                                                                                      1\n",
      "CTSN: máu tụ ngoài màng cứng + vỡ rạn xương sọ đỉnh phải, xây sát da gối 2 bên do tai nạn giao thông                                                                                                                                                                1\n",
      "CTSN: XHDN thái dương trái, VTPM vùng đỉnh trái + cằm do TNGT đã khâu vết thương phần mềm                                                                                                                                                                           1\n",
      "CTSN: MTDMC 2 bán cầu, XHDN 2 bán cầu + lều TN + liềm ĐN,, MTMNC + DNXH chẩm P,  vỡ rạn xương chẩm P  + thành xoang bướm do ngã                                                                                                                                     1\n",
      "Đa chấn thương: Chấn thương sọ não: Máu tụ ngoài màng cứng thái dương đỉnh phải, vỡ xương thái dương phải; Chấn thương bụng kín do TNGT G6                                                                                                                          1\n",
      "Name: count, Length: 310, dtype: int64\n",
      "\n",
      "\n",
      "##Value counts for d_kl_tl:##\n",
      "d_kl_tl\n",
      "2.0    190\n",
      "3.0    105\n",
      "1.0     29\n",
      "4.0     24\n",
      "Name: count, dtype: int64\n",
      "\n",
      "\n"
     ]
    }
   ],
   "source": [
    "for column in dataset_new.columns:\n",
    "    print(f\"##Value counts for {column}:##\")\n",
    "    print(dataset_new[column].value_counts())\n",
    "    print(\"\\n\")\n"
   ]
  },
  {
   "cell_type": "code",
   "execution_count": 95,
   "metadata": {},
   "outputs": [
    {
     "name": "stdout",
     "output_type": "stream",
     "text": [
      "redcap_event_name             0\n",
      "redcap_repeat_instrument      0\n",
      "time_start_survey_pt        515\n",
      "d_kl_cd                     861\n",
      "d_kl_cd_2                   554\n",
      "d_kl_xu_tri                 862\n",
      "d_kl_xu_tri_2               800\n",
      "ppm                         852\n",
      "d_kl_cd_3                   556\n",
      "d_kl_tl                     519\n",
      "dtype: int64\n"
     ]
    }
   ],
   "source": [
    "missing_values_count = dataset_new.isnull().sum()\n",
    "\n",
    "# Printing the count of missing values per column\n",
    "print(missing_values_count)"
   ]
  },
  {
   "cell_type": "code",
   "execution_count": 96,
   "metadata": {},
   "outputs": [
    {
     "data": {
      "text/plain": [
       "[('CTSN', 'Np'),\n",
       " (':', 'CH'),\n",
       " ('Vỡ', 'Np'),\n",
       " ('xương trán', 'V'),\n",
       " ('(', 'CH'),\n",
       " ('T', 'Np'),\n",
       " (')', 'CH'),\n",
       " (',', 'CH'),\n",
       " ('bầm', 'A'),\n",
       " ('tím hốc', 'V'),\n",
       " ('mắt', 'N'),\n",
       " ('+', 'V'),\n",
       " ('cằm', 'N'),\n",
       " ('(', 'CH'),\n",
       " ('T', 'Np'),\n",
       " (')', 'CH'),\n",
       " ('do', 'E'),\n",
       " ('TNSH G11', 'Np'),\n",
       " ('/', 'CH'),\n",
       " ('PT', 'Np'),\n",
       " ('CTSN', 'Np'),\n",
       " ('năm', 'N'),\n",
       " ('thứ', 'N'),\n",
       " ('19', 'M')]"
      ]
     },
     "execution_count": 96,
     "metadata": {},
     "output_type": "execute_result"
    }
   ],
   "source": [
    "from underthesea import pos_tag\n",
    "pos_tag('CTSN: Vỡ xương trán (T), bầm tím hốc mắt + cằm (T) do TNSH G11/ PT CTSN năm thứ 19  ')\n"
   ]
  },
  {
   "cell_type": "code",
   "execution_count": 97,
   "metadata": {},
   "outputs": [
    {
     "data": {
      "text/html": [
       "<div>\n",
       "<style scoped>\n",
       "    .dataframe tbody tr th:only-of-type {\n",
       "        vertical-align: middle;\n",
       "    }\n",
       "\n",
       "    .dataframe tbody tr th {\n",
       "        vertical-align: top;\n",
       "    }\n",
       "\n",
       "    .dataframe thead th {\n",
       "        text-align: right;\n",
       "    }\n",
       "</style>\n",
       "<table border=\"1\" class=\"dataframe\">\n",
       "  <thead>\n",
       "    <tr style=\"text-align: right;\">\n",
       "      <th></th>\n",
       "      <th>redcap_event_name</th>\n",
       "      <th>redcap_repeat_instrument</th>\n",
       "      <th>time_start_survey_pt</th>\n",
       "      <th>d_kl_cd</th>\n",
       "      <th>d_kl_cd_2</th>\n",
       "      <th>d_kl_xu_tri</th>\n",
       "      <th>d_kl_xu_tri_2</th>\n",
       "      <th>ppm</th>\n",
       "      <th>d_kl_cd_3</th>\n",
       "      <th>d_kl_tl</th>\n",
       "    </tr>\n",
       "  </thead>\n",
       "  <tbody>\n",
       "    <tr>\n",
       "      <th>0</th>\n",
       "      <td>thu_benh_an_arm_1</td>\n",
       "      <td>paraclinical_tests</td>\n",
       "      <td>NaN</td>\n",
       "      <td>NaN</td>\n",
       "      <td>NaN</td>\n",
       "      <td>NaN</td>\n",
       "      <td>NaN</td>\n",
       "      <td>NaN</td>\n",
       "      <td>NaN</td>\n",
       "      <td>NaN</td>\n",
       "    </tr>\n",
       "    <tr>\n",
       "      <th>1</th>\n",
       "      <td>thu_benh_an_arm_1</td>\n",
       "      <td>paraclinical_tests</td>\n",
       "      <td>NaN</td>\n",
       "      <td>NaN</td>\n",
       "      <td>NaN</td>\n",
       "      <td>NaN</td>\n",
       "      <td>NaN</td>\n",
       "      <td>NaN</td>\n",
       "      <td>NaN</td>\n",
       "      <td>NaN</td>\n",
       "    </tr>\n",
       "    <tr>\n",
       "      <th>2</th>\n",
       "      <td>thu_benh_an_arm_1</td>\n",
       "      <td>demographics</td>\n",
       "      <td>NaN</td>\n",
       "      <td>NaN</td>\n",
       "      <td>NaN</td>\n",
       "      <td>NaN</td>\n",
       "      <td>NaN</td>\n",
       "      <td>NaN</td>\n",
       "      <td>NaN</td>\n",
       "      <td>NaN</td>\n",
       "    </tr>\n",
       "    <tr>\n",
       "      <th>3</th>\n",
       "      <td>thu_benh_an_arm_1</td>\n",
       "      <td>paraclinical_tests</td>\n",
       "      <td>NaN</td>\n",
       "      <td>NaN</td>\n",
       "      <td>NaN</td>\n",
       "      <td>NaN</td>\n",
       "      <td>NaN</td>\n",
       "      <td>NaN</td>\n",
       "      <td>NaN</td>\n",
       "      <td>NaN</td>\n",
       "    </tr>\n",
       "    <tr>\n",
       "      <th>4</th>\n",
       "      <td>thu_benh_an_arm_1</td>\n",
       "      <td>demographics</td>\n",
       "      <td>NaN</td>\n",
       "      <td>NaN</td>\n",
       "      <td>NaN</td>\n",
       "      <td>NaN</td>\n",
       "      <td>NaN</td>\n",
       "      <td>NaN</td>\n",
       "      <td>NaN</td>\n",
       "      <td>NaN</td>\n",
       "    </tr>\n",
       "  </tbody>\n",
       "</table>\n",
       "</div>"
      ],
      "text/plain": [
       "   redcap_event_name redcap_repeat_instrument time_start_survey_pt d_kl_cd  \\\n",
       "0  thu_benh_an_arm_1       paraclinical_tests                  NaN     NaN   \n",
       "1  thu_benh_an_arm_1       paraclinical_tests                  NaN     NaN   \n",
       "2  thu_benh_an_arm_1             demographics                  NaN     NaN   \n",
       "3  thu_benh_an_arm_1       paraclinical_tests                  NaN     NaN   \n",
       "4  thu_benh_an_arm_1             demographics                  NaN     NaN   \n",
       "\n",
       "  d_kl_cd_2 d_kl_xu_tri d_kl_xu_tri_2  ppm d_kl_cd_3  d_kl_tl  \n",
       "0       NaN         NaN           NaN  NaN       NaN      NaN  \n",
       "1       NaN         NaN           NaN  NaN       NaN      NaN  \n",
       "2       NaN         NaN           NaN  NaN       NaN      NaN  \n",
       "3       NaN         NaN           NaN  NaN       NaN      NaN  \n",
       "4       NaN         NaN           NaN  NaN       NaN      NaN  "
      ]
     },
     "execution_count": 97,
     "metadata": {},
     "output_type": "execute_result"
    }
   ],
   "source": [
    "dataset_new.head()"
   ]
  },
  {
   "cell_type": "code",
   "execution_count": 98,
   "metadata": {},
   "outputs": [
    {
     "data": {
      "text/html": [
       "<div>\n",
       "<style scoped>\n",
       "    .dataframe tbody tr th:only-of-type {\n",
       "        vertical-align: middle;\n",
       "    }\n",
       "\n",
       "    .dataframe tbody tr th {\n",
       "        vertical-align: top;\n",
       "    }\n",
       "\n",
       "    .dataframe thead th {\n",
       "        text-align: right;\n",
       "    }\n",
       "</style>\n",
       "<table border=\"1\" class=\"dataframe\">\n",
       "  <thead>\n",
       "    <tr style=\"text-align: right;\">\n",
       "      <th></th>\n",
       "      <th>d_kl_tl</th>\n",
       "    </tr>\n",
       "  </thead>\n",
       "  <tbody>\n",
       "    <tr>\n",
       "      <th>count</th>\n",
       "      <td>348.000000</td>\n",
       "    </tr>\n",
       "    <tr>\n",
       "      <th>mean</th>\n",
       "      <td>2.356322</td>\n",
       "    </tr>\n",
       "    <tr>\n",
       "      <th>std</th>\n",
       "      <td>0.731774</td>\n",
       "    </tr>\n",
       "    <tr>\n",
       "      <th>min</th>\n",
       "      <td>1.000000</td>\n",
       "    </tr>\n",
       "    <tr>\n",
       "      <th>25%</th>\n",
       "      <td>2.000000</td>\n",
       "    </tr>\n",
       "    <tr>\n",
       "      <th>50%</th>\n",
       "      <td>2.000000</td>\n",
       "    </tr>\n",
       "    <tr>\n",
       "      <th>75%</th>\n",
       "      <td>3.000000</td>\n",
       "    </tr>\n",
       "    <tr>\n",
       "      <th>max</th>\n",
       "      <td>4.000000</td>\n",
       "    </tr>\n",
       "  </tbody>\n",
       "</table>\n",
       "</div>"
      ],
      "text/plain": [
       "          d_kl_tl\n",
       "count  348.000000\n",
       "mean     2.356322\n",
       "std      0.731774\n",
       "min      1.000000\n",
       "25%      2.000000\n",
       "50%      2.000000\n",
       "75%      3.000000\n",
       "max      4.000000"
      ]
     },
     "execution_count": 98,
     "metadata": {},
     "output_type": "execute_result"
    }
   ],
   "source": [
    "dataset_new.describe()"
   ]
  },
  {
   "cell_type": "code",
   "execution_count": 99,
   "metadata": {},
   "outputs": [
    {
     "data": {
      "text/plain": [
       "867"
      ]
     },
     "execution_count": 99,
     "metadata": {},
     "output_type": "execute_result"
    }
   ],
   "source": [
    "num_samples = dataset_new.shape[0]\n",
    "num_samples"
   ]
  },
  {
   "cell_type": "code",
   "execution_count": 100,
   "metadata": {},
   "outputs": [
    {
     "name": "stdout",
     "output_type": "stream",
     "text": [
      "313\n",
      "311\n"
     ]
    }
   ],
   "source": [
    "dataset_need = dataset_new[['d_kl_cd_2',\"d_kl_cd_3\",\"d_kl_tl\"]]\n",
    "dataset_need1 = dataset_new[['d_kl_cd_2']]\n",
    "dataset_need2 = dataset_new[[\"d_kl_cd_3\"]]\n",
    "print(len(dataset_need1.dropna(axis = 0)))\n",
    "print(len(dataset_need2.dropna(axis = 0)))"
   ]
  },
  {
   "cell_type": "code",
   "execution_count": 101,
   "metadata": {},
   "outputs": [],
   "source": [
    "dataset_final = dataset_need.dropna(axis = 0)"
   ]
  },
  {
   "cell_type": "code",
   "execution_count": 102,
   "metadata": {},
   "outputs": [
    {
     "data": {
      "text/plain": [
       "(287, 3)"
      ]
     },
     "execution_count": 102,
     "metadata": {},
     "output_type": "execute_result"
    }
   ],
   "source": [
    "dataset_final.shape"
   ]
  },
  {
   "cell_type": "code",
   "execution_count": 103,
   "metadata": {},
   "outputs": [
    {
     "data": {
      "text/html": [
       "<div>\n",
       "<style scoped>\n",
       "    .dataframe tbody tr th:only-of-type {\n",
       "        vertical-align: middle;\n",
       "    }\n",
       "\n",
       "    .dataframe tbody tr th {\n",
       "        vertical-align: top;\n",
       "    }\n",
       "\n",
       "    .dataframe thead th {\n",
       "        text-align: right;\n",
       "    }\n",
       "</style>\n",
       "<table border=\"1\" class=\"dataframe\">\n",
       "  <thead>\n",
       "    <tr style=\"text-align: right;\">\n",
       "      <th></th>\n",
       "      <th>d_kl_cd_2</th>\n",
       "      <th>d_kl_cd_3</th>\n",
       "      <th>d_kl_tl</th>\n",
       "    </tr>\n",
       "  </thead>\n",
       "  <tbody>\n",
       "    <tr>\n",
       "      <th>89</th>\n",
       "      <td>CTSN: MTTN,  DNXH trán P, MTDMC trán TD 2 bên,...</td>\n",
       "      <td>CTSN: MTTN,  DNXH trán P, MTDMC trán TD 2 bên,...</td>\n",
       "      <td>3.0</td>\n",
       "    </tr>\n",
       "    <tr>\n",
       "      <th>145</th>\n",
       "      <td>CTSN: MTDMC trán-TD T, XHDN TD T, gãy thành tr...</td>\n",
       "      <td>Chấn thương sọ não: máu tụ dưới màng cứng trán...</td>\n",
       "      <td>2.0</td>\n",
       "    </tr>\n",
       "    <tr>\n",
       "      <th>147</th>\n",
       "      <td>Máu tụ DMC mạn tính 2 bán cầu</td>\n",
       "      <td>Máu tụ dưới màng cứng mạn tính 2 bán cầu.</td>\n",
       "      <td>2.0</td>\n",
       "    </tr>\n",
       "    <tr>\n",
       "      <th>150</th>\n",
       "      <td>Chấn thương sọ não: DNXH thái dương P, XHDN lề...</td>\n",
       "      <td>Chấn thương sọ não: dập não xuất huyết thái dư...</td>\n",
       "      <td>2.0</td>\n",
       "    </tr>\n",
       "    <tr>\n",
       "      <th>152</th>\n",
       "      <td>CTSN:máu tụ dưới màng cứng trán thái dương phả...</td>\n",
       "      <td>Chấn thương sọ não: dập não xuất huyết, máu tụ...</td>\n",
       "      <td>3.0</td>\n",
       "    </tr>\n",
       "  </tbody>\n",
       "</table>\n",
       "</div>"
      ],
      "text/plain": [
       "                                             d_kl_cd_2  \\\n",
       "89   CTSN: MTTN,  DNXH trán P, MTDMC trán TD 2 bên,...   \n",
       "145  CTSN: MTDMC trán-TD T, XHDN TD T, gãy thành tr...   \n",
       "147                      Máu tụ DMC mạn tính 2 bán cầu   \n",
       "150  Chấn thương sọ não: DNXH thái dương P, XHDN lề...   \n",
       "152  CTSN:máu tụ dưới màng cứng trán thái dương phả...   \n",
       "\n",
       "                                             d_kl_cd_3  d_kl_tl  \n",
       "89   CTSN: MTTN,  DNXH trán P, MTDMC trán TD 2 bên,...      3.0  \n",
       "145  Chấn thương sọ não: máu tụ dưới màng cứng trán...      2.0  \n",
       "147       Máu tụ dưới màng cứng mạn tính 2 bán cầu.         2.0  \n",
       "150  Chấn thương sọ não: dập não xuất huyết thái dư...      2.0  \n",
       "152  Chấn thương sọ não: dập não xuất huyết, máu tụ...      3.0  "
      ]
     },
     "execution_count": 103,
     "metadata": {},
     "output_type": "execute_result"
    }
   ],
   "source": [
    "dataset_final.head()"
   ]
  },
  {
   "cell_type": "code",
   "execution_count": 104,
   "metadata": {},
   "outputs": [
    {
     "data": {
      "text/plain": [
       "Index(['d_kl_cd_2', 'd_kl_cd_3'], dtype='object')"
      ]
     },
     "execution_count": 104,
     "metadata": {},
     "output_type": "execute_result"
    }
   ],
   "source": [
    "dataset_final.columns[:2]"
   ]
  },
  {
   "cell_type": "code",
   "execution_count": 105,
   "metadata": {},
   "outputs": [],
   "source": [
    "from underthesea import ner\n",
    "text = 'CTSN: MTDMC trán (P), gãy CTGM (T), vỡ thành xoang hàm hai bên, vỡ thành ngoài hốc mắt phải, GK 1/3 dưới xương cánh tay trái do TNGT giờ thứ 2        '\n",
    "hehe = ner(text)"
   ]
  },
  {
   "cell_type": "code",
   "execution_count": 106,
   "metadata": {},
   "outputs": [
    {
     "name": "stdout",
     "output_type": "stream",
     "text": [
      "['CTSN', ':', 'MTDMC trán', '(', 'P', ')', ',', 'gãy', 'CTGM', '(', 'T', ')', ',', 'vỡ', 'thành', 'xoang', 'hàm', 'hai', 'bên', ',', 'vỡ', 'thành', 'ngoài', 'hốc', 'mắt', 'phải', ',', 'GK 1/3', 'dưới', 'xương', 'cánh tay trái', 'do', 'TNGT', 'giờ', 'thứ', '2']\n"
     ]
    }
   ],
   "source": [
    "print([item[0] for item in hehe])"
   ]
  },
  {
   "cell_type": "code",
   "execution_count": 107,
   "metadata": {},
   "outputs": [
    {
     "name": "stderr",
     "output_type": "stream",
     "text": [
      "C:\\Users\\hp\\AppData\\Local\\Temp\\ipykernel_18360\\1760155857.py:15: FutureWarning: Series.__getitem__ treating keys as positions is deprecated. In a future version, integer keys will always be treated as labels (consistent with DataFrame behavior). To access a value by position, use `ser.iloc[pos]`\n",
      "  text = row[text_column]\n"
     ]
    },
    {
     "data": {
      "text/plain": [
       "'unique_np_words_with_sentences.xlsx'"
      ]
     },
     "execution_count": 107,
     "metadata": {},
     "output_type": "execute_result"
    }
   ],
   "source": [
    "import pandas as pd\n",
    "from underthesea import pos_tag\n",
    "\n",
    "total_np = {}  # Use a dictionary to store unique \"Np\" words and the first sentence they appear in\n",
    "\n",
    "# Function to remove specific characters from a sentence\n",
    "def clean_sentence(sentence):\n",
    "    for char in [':', '+', '-', ',', '/','.']:\n",
    "        sentence = sentence.replace(char, '')\n",
    "    return sentence\n",
    "\n",
    "# Assuming dataset_final is your DataFrame\n",
    "for index, row in dataset_final.iterrows():\n",
    "    for text_column in [0]:  # Iterate through the first and second columns\n",
    "        text = row[text_column]\n",
    "        pos_tag_output = pos_tag(text)\n",
    "        np_words = [word[0] for word in pos_tag_output if word[1] == \"Np\"]\n",
    "        \n",
    "        for np_word in np_words:\n",
    "            if np_word not in total_np:\n",
    "                # Clean the sentence by removing specific characters\n",
    "                clean_text = clean_sentence(text)\n",
    "                # Update the dictionary with the \"Np\" word as key and the cleaned sentence as value\n",
    "                total_np[np_word] = clean_text\n",
    "\n",
    "# Now, total_np is a dictionary where each unique \"Np\" word is associated with the first cleaned sentence it appears in\n",
    "\n",
    "# Convert the dictionary to a list of tuples\n",
    "np_words_and_sentences = [(sentence, word)for word, sentence in total_np.items()]\n",
    "\n",
    "# Create a DataFrame from the list\n",
    "np_words_df = pd.DataFrame(np_words_and_sentences, columns=[\"Np Words\", \"First Sentence\"])\n",
    "\n",
    "# Define the Excel file path\n",
    "excel_path = \"unique_np_words_with_sentences.xlsx\"\n",
    "\n",
    "# Export the DataFrame to an Excel file\n",
    "np_words_df.to_excel(excel_path, index=False)\n",
    "\n",
    "excel_path\n"
   ]
  },
  {
   "cell_type": "code",
   "execution_count": 108,
   "metadata": {},
   "outputs": [],
   "source": [
    "import torch\n",
    "from transformers import AutoModel, AutoTokenizer\n",
    "\n",
    "vihealthbert = AutoModel.from_pretrained(\"demdecuong/vihealthbert-base-syllable\")\n",
    "tokenizer = AutoTokenizer.from_pretrained(\"demdecuong/vihealthbert-base-syllable\")\n",
    "\n",
    "# INPUT TEXT MUST BE ALREADY WORD-SEGMENTED!\n",
    "line = \"CTSN: MTDMC trán (P), gãy CTGM (T), vỡ thành xoang hàm hai bên, vỡ thành ngoài hốc mắt phải, GK 1/3 dưới xương cánh tay trái do TNGT giờ thứ 2\"\n",
    "\n",
    "input_ids = torch.tensor([tokenizer.encode(line)])\n",
    "with torch.no_grad():\n",
    "    features = vihealthbert(input_ids)  # Models outputs are now tuples\n"
   ]
  },
  {
   "cell_type": "code",
   "execution_count": 109,
   "metadata": {},
   "outputs": [
    {
     "name": "stdout",
     "output_type": "stream",
     "text": [
      "768\n"
     ]
    }
   ],
   "source": [
    "print(vihealthbert.config.hidden_size)"
   ]
  },
  {
   "cell_type": "code",
   "execution_count": 110,
   "metadata": {},
   "outputs": [
    {
     "name": "stdout",
     "output_type": "stream",
     "text": [
      "tensor([[[-0.2354, -0.4820,  0.9026,  ...,  0.0970, -0.2611,  0.3841],\n",
      "         [ 0.1327,  0.0735, -0.0704,  ...,  0.0058, -0.3455,  0.0073],\n",
      "         [ 0.4920,  0.2458,  0.1794,  ...,  0.0839,  0.0697, -0.3160],\n",
      "         ...,\n",
      "         [ 0.4065,  0.4108, -0.0071,  ..., -0.2628,  0.4298,  0.4233],\n",
      "         [-0.6298,  0.2381, -0.3209,  ..., -0.1013,  0.0867,  0.0398],\n",
      "         [-0.2354, -0.4820,  0.9026,  ...,  0.0970, -0.2611,  0.3841]]])\n"
     ]
    }
   ],
   "source": [
    "print(features.last_hidden_state)"
   ]
  },
  {
   "cell_type": "code",
   "execution_count": 111,
   "metadata": {},
   "outputs": [
    {
     "name": "stderr",
     "output_type": "stream",
     "text": [
      "C:\\Users\\hp\\AppData\\Local\\Temp\\ipykernel_18360\\1810398620.py:3: FutureWarning: Series.__getitem__ treating keys as positions is deprecated. In a future version, integer keys will always be treated as labels (consistent with DataFrame behavior). To access a value by position, use `ser.iloc[pos]`\n",
      "  text = row[text_column]\n"
     ]
    }
   ],
   "source": [
    "for index, row in dataset_final.iterrows():\n",
    "    for text_column in [0,1]:  # Iterate through the first and second columns\n",
    "        text = row[text_column]\n",
    "        # pos_tag_output = pos_tag(text)\n",
    "        np_words = [word[0] for word in pos_tag_output if word[1] == \"Np\"]\n",
    "        \n",
    "        for np_word in np_words:\n",
    "            if np_word not in total_np:\n",
    "                # Clean the sentence by removing specific characters\n",
    "                clean_text = clean_sentence(text)\n",
    "                # Update the dictionary with the \"Np\" word as key and the cleaned sentence as value\n",
    "                total_np[np_word] = clean_text"
   ]
  },
  {
   "cell_type": "code",
   "execution_count": 112,
   "metadata": {},
   "outputs": [],
   "source": [
    "dataset_before = dataset_final[[dataset_final.columns[0],dataset_final.columns[2]]]\n",
    "dataset_after = dataset_final[[dataset_final.columns[1],dataset_final.columns[2]]]"
   ]
  },
  {
   "cell_type": "code",
   "execution_count": 113,
   "metadata": {},
   "outputs": [],
   "source": [
    "dataset_before.head()\n",
    "dataset_before.to_csv(\"Before.csv\", index = False)"
   ]
  },
  {
   "cell_type": "code",
   "execution_count": 114,
   "metadata": {},
   "outputs": [],
   "source": [
    "import pandas as pd\n",
    "from sklearn.model_selection import train_test_split\n",
    "\n",
    "# Load your dataset\n",
    "dataset_before = pd.read_csv(\"Before.csv\")\n",
    "\n",
    "# Split the dataset into training and testing sets with a 20% test size\n",
    "train, test = train_test_split(dataset_before, test_size=0.2, random_state=42)\n",
    "\n",
    "# Save the split datasets to CSV files\n",
    "train.to_csv(\"Before_train.csv\", index=False)\n",
    "test.to_csv(\"Before_test.csv\", index=False)\n"
   ]
  },
  {
   "cell_type": "code",
   "execution_count": 115,
   "metadata": {},
   "outputs": [],
   "source": [
    "dataset_after.head()\n",
    "dataset_after.to_csv(\"After.csv\", index = False)"
   ]
  },
  {
   "cell_type": "code",
   "execution_count": 116,
   "metadata": {},
   "outputs": [],
   "source": [
    "import pandas as pd\n",
    "from sklearn.model_selection import train_test_split\n",
    "\n",
    "# Load your dataset\n",
    "dataset_after = pd.read_csv(\"After.csv\")\n",
    "\n",
    "# Split the dataset into training and testing sets with a 20% test size\n",
    "train, test = train_test_split(dataset_after, test_size=0.2, random_state=42)\n",
    "\n",
    "# Save the split datasets to CSV files\n",
    "train.to_csv(\"After_train.csv\", index=False)\n",
    "test.to_csv(\"After_test.csv\", index=False)\n"
   ]
  },
  {
   "cell_type": "code",
   "execution_count": 117,
   "metadata": {},
   "outputs": [],
   "source": [
    "from transformers import AutoTokenizer\n",
    "text = \"Hello moi nguoi nhe\"\n",
    "tokenizer = AutoTokenizer.from_pretrained(\"stevhliu/my_awesome_model\")\n",
    "inputs = tokenizer(text, return_tensors=\"pt\")"
   ]
  },
  {
   "cell_type": "code",
   "execution_count": 118,
   "metadata": {},
   "outputs": [
    {
     "data": {
      "text/plain": [
       "tensor([[  101,  7592, 25175, 12835, 19098,  2072, 18699,  2063,   102]])"
      ]
     },
     "execution_count": 118,
     "metadata": {},
     "output_type": "execute_result"
    }
   ],
   "source": [
    "inputs[\"input_ids\"]"
   ]
  },
  {
   "cell_type": "code",
   "execution_count": 119,
   "metadata": {},
   "outputs": [
    {
     "name": "stderr",
     "output_type": "stream",
     "text": [
      "Asking to truncate to max_length but no maximum length is provided and the model has no predefined maximum length. Default to no truncation.\n"
     ]
    }
   ],
   "source": [
    "import torch\n",
    "from transformers import AutoModel, AutoTokenizer\n",
    "\n",
    "vihealthbert = AutoModel.from_pretrained(\"demdecuong/vihealthbert-base-syllable\")\n",
    "tokenizer = AutoTokenizer.from_pretrained(\"demdecuong/vihealthbert-base-syllable\")\n",
    "\n",
    "# INPUT TEXT MUST BE ALREADY WORD-SEGMENTED!\n",
    "line = \"Tôi là sinh_viên trường đại_học Công_nghệ .\"\n",
    "tokenized_inputs = tokenizer(line, padding=True, truncation=True, return_tensors=\"pt\")\n",
    "input_ids = torch.tensor([tokenizer.encode(line)])\n",
    "with torch.no_grad():\n",
    "    features = vihealthbert(input_ids)  # Models outputs are now tuples\n"
   ]
  },
  {
   "cell_type": "code",
   "execution_count": 120,
   "metadata": {},
   "outputs": [
    {
     "data": {
      "text/plain": [
       "{'input_ids': tensor([[   0,  218,    8,  649,  212,  956, 2413,    5,    2]]), 'token_type_ids': tensor([[0, 0, 0, 0, 0, 0, 0, 0, 0]]), 'attention_mask': tensor([[1, 1, 1, 1, 1, 1, 1, 1, 1]])}"
      ]
     },
     "execution_count": 120,
     "metadata": {},
     "output_type": "execute_result"
    }
   ],
   "source": [
    "tokenized_inputs = tokenizer(line, padding=True, return_tensors=\"pt\")\n",
    "tokenized_inputs\n"
   ]
  },
  {
   "cell_type": "code",
   "execution_count": 121,
   "metadata": {},
   "outputs": [
    {
     "data": {
      "text/plain": [
       "768"
      ]
     },
     "execution_count": 121,
     "metadata": {},
     "output_type": "execute_result"
    }
   ],
   "source": [
    "vihealthbert.config.hidden_size"
   ]
  },
  {
   "cell_type": "code",
   "execution_count": 122,
   "metadata": {},
   "outputs": [
    {
     "data": {
      "text/plain": [
       "torch.Size([1, 9, 768])"
      ]
     },
     "execution_count": 122,
     "metadata": {},
     "output_type": "execute_result"
    }
   ],
   "source": [
    "features.last_hidden_state.shape"
   ]
  },
  {
   "cell_type": "code",
   "execution_count": 123,
   "metadata": {},
   "outputs": [
    {
     "data": {
      "text/plain": [
       "torch.Size([1, 768])"
      ]
     },
     "execution_count": 123,
     "metadata": {},
     "output_type": "execute_result"
    }
   ],
   "source": [
    "features.last_hidden_state[:, 0, :].shape\n"
   ]
  },
  {
   "cell_type": "code",
   "execution_count": 124,
   "metadata": {},
   "outputs": [
    {
     "data": {
      "text/plain": [
       "torch.Size([1, 768])"
      ]
     },
     "execution_count": 124,
     "metadata": {},
     "output_type": "execute_result"
    }
   ],
   "source": [
    "features.pooler_output.shape"
   ]
  },
  {
   "cell_type": "code",
   "execution_count": 125,
   "metadata": {},
   "outputs": [],
   "source": [
    "dataset_before_1 = dataset_before[dataset_before[\"d_kl_tl\"] == 1]\n",
    "dataset_before_2 = dataset_before[dataset_before[\"d_kl_tl\"] == 2]\n",
    "dataset_before_3 = dataset_before[dataset_before[\"d_kl_tl\"] == 3]\n",
    "dataset_before_4 = dataset_before[dataset_before[\"d_kl_tl\"] == 4]"
   ]
  },
  {
   "cell_type": "code",
   "execution_count": 126,
   "metadata": {},
   "outputs": [],
   "source": [
    "dataset_after_1 = dataset_after[dataset_after[\"d_kl_tl\"] == 1]\n",
    "dataset_after_2 = dataset_after[dataset_after[\"d_kl_tl\"] == 2]\n",
    "dataset_after_3 = dataset_after[dataset_after[\"d_kl_tl\"] == 3]\n",
    "dataset_after_4 = dataset_after[dataset_after[\"d_kl_tl\"] == 4]"
   ]
  },
  {
   "cell_type": "code",
   "execution_count": 127,
   "metadata": {},
   "outputs": [
    {
     "name": "stdout",
     "output_type": "stream",
     "text": [
      "(287, 2)\n"
     ]
    }
   ],
   "source": [
    "print(dataset_after.shape)"
   ]
  },
  {
   "cell_type": "code",
   "execution_count": 128,
   "metadata": {},
   "outputs": [
    {
     "data": {
      "text/html": [
       "<div>\n",
       "<style scoped>\n",
       "    .dataframe tbody tr th:only-of-type {\n",
       "        vertical-align: middle;\n",
       "    }\n",
       "\n",
       "    .dataframe tbody tr th {\n",
       "        vertical-align: top;\n",
       "    }\n",
       "\n",
       "    .dataframe thead th {\n",
       "        text-align: right;\n",
       "    }\n",
       "</style>\n",
       "<table border=\"1\" class=\"dataframe\">\n",
       "  <thead>\n",
       "    <tr style=\"text-align: right;\">\n",
       "      <th></th>\n",
       "      <th>d_kl_cd_2</th>\n",
       "      <th>d_kl_tl</th>\n",
       "    </tr>\n",
       "  </thead>\n",
       "  <tbody>\n",
       "    <tr>\n",
       "      <th>14</th>\n",
       "      <td>Chấn động não, vết thương phần mềm đỉnh trái d...</td>\n",
       "      <td>1.0</td>\n",
       "    </tr>\n",
       "    <tr>\n",
       "      <th>15</th>\n",
       "      <td>Chấn động não, CTNK Gãy kín cung trước xương s...</td>\n",
       "      <td>1.0</td>\n",
       "    </tr>\n",
       "    <tr>\n",
       "      <th>19</th>\n",
       "      <td>Chấn động não, vết thương phần mềm vùng trán đ...</td>\n",
       "      <td>1.0</td>\n",
       "    </tr>\n",
       "    <tr>\n",
       "      <th>33</th>\n",
       "      <td>XHDN liềm đại não, gãy kín 1/3D xương mác + VT...</td>\n",
       "      <td>1.0</td>\n",
       "    </tr>\n",
       "    <tr>\n",
       "      <th>34</th>\n",
       "      <td>CTSN: MTNMC thái dương (T), VTPM trán (T) do T...</td>\n",
       "      <td>1.0</td>\n",
       "    </tr>\n",
       "  </tbody>\n",
       "</table>\n",
       "</div>"
      ],
      "text/plain": [
       "                                            d_kl_cd_2  d_kl_tl\n",
       "14  Chấn động não, vết thương phần mềm đỉnh trái d...      1.0\n",
       "15  Chấn động não, CTNK Gãy kín cung trước xương s...      1.0\n",
       "19  Chấn động não, vết thương phần mềm vùng trán đ...      1.0\n",
       "33  XHDN liềm đại não, gãy kín 1/3D xương mác + VT...      1.0\n",
       "34  CTSN: MTNMC thái dương (T), VTPM trán (T) do T...      1.0"
      ]
     },
     "execution_count": 128,
     "metadata": {},
     "output_type": "execute_result"
    }
   ],
   "source": [
    "dataset_before_1.head()"
   ]
  },
  {
   "cell_type": "code",
   "execution_count": 129,
   "metadata": {},
   "outputs": [],
   "source": [
    "dataset_before_1[\"d_kl_cd_2\"].to_csv(\"Before1.txt\", index = False, sep = '\\t')\n",
    "dataset_before_2[\"d_kl_cd_2\"].to_csv(\"Before2.txt\", index = False, sep = '\\t')\n",
    "dataset_before_3[\"d_kl_cd_2\"].to_csv(\"Before3.txt\", index = False, sep = '\\t')\n",
    "dataset_before_4[\"d_kl_cd_2\"].to_csv(\"Before4.txt\", index = False, sep = '\\t')"
   ]
  },
  {
   "cell_type": "code",
   "execution_count": 130,
   "metadata": {},
   "outputs": [],
   "source": [
    "dataset_after_1[\"d_kl_cd_3\"].to_csv(\"After1.txt\", index = False, sep = '\\t')\n",
    "dataset_after_2[\"d_kl_cd_3\"].to_csv(\"After2.txt\", index = False, sep = '\\t')\n",
    "dataset_after_3[\"d_kl_cd_3\"].to_csv(\"After3.txt\", index = False, sep = '\\t')\n",
    "dataset_after_4[\"d_kl_cd_3\"].to_csv(\"After4.txt\", index = False, sep = '\\t')"
   ]
  },
  {
   "cell_type": "code",
   "execution_count": 131,
   "metadata": {},
   "outputs": [
    {
     "name": "stderr",
     "output_type": "stream",
     "text": [
      "[nltk_data] Downloading package punkt to\n",
      "[nltk_data]     C:\\Users\\hp\\AppData\\Roaming\\nltk_data...\n",
      "[nltk_data]   Package punkt is already up-to-date!\n"
     ]
    },
    {
     "data": {
      "text/plain": [
       "True"
      ]
     },
     "execution_count": 131,
     "metadata": {},
     "output_type": "execute_result"
    }
   ],
   "source": [
    "#Import the relevant libraries\n",
    "import nltk\n",
    "from nltk import word_tokenize\n",
    "from nltk.probability import FreqDist\n",
    "import urllib.request\n",
    "from matplotlib import pyplot as plt\n",
    "from wordcloud import WordCloud\n",
    "nltk.download('punkt')"
   ]
  },
  {
   "cell_type": "code",
   "execution_count": 132,
   "metadata": {},
   "outputs": [
    {
     "name": "stdout",
     "output_type": "stream",
     "text": [
      "ng T, XHDN TD đỉnh P + trán P. Vỡ xương đỉnh 2 bên+ vỡ xương chẩm T do TNGT G3  \n",
      " XHDN rãnh liên bán cầu do ngã G2\n",
      "CTSN: DNXH + MTDMC thái dương T, vỡ xương thái dương P do tai nạn giao thông G2\n",
      "CTSN: XHDN đỉnh P, bỏng nông lòng bàn chân T do TNGT G4  \n",
      "Máu tụ dưới màng cứng mạn tính bán cầu P do ngã tháng thứ 2  \n",
      "\n"
     ]
    }
   ],
   "source": [
    "# Giả sử tên file của bạn là 'example.txt' và nó nằm trong cùng thư mục với script Python của bạn\n",
    "\n",
    "# Mở và đọc file\n",
    "with open('Before1.txt', 'r', encoding='utf-8') as file:\n",
    "    text = file.read()\n",
    "\n",
    "# Hiển thị một phần của văn bản\n",
    "print(text[1400:2000])\n",
    "import py_vncorenlp"
   ]
  },
  {
   "cell_type": "code",
   "execution_count": 133,
   "metadata": {},
   "outputs": [
    {
     "name": "stdout",
     "output_type": "stream",
     "text": [
      "The total number of words in the text is 435\n"
     ]
    }
   ],
   "source": [
    "#tokenize text by words\n",
    "words = word_tokenize(text)\n",
    "\n",
    "#check the number of words\n",
    "print(f\"The total number of words in the text is {len(words)}\")"
   ]
  },
  {
   "cell_type": "code",
   "execution_count": 134,
   "metadata": {},
   "outputs": [
    {
     "data": {
      "text/plain": [
       "[('do', 27),\n",
       " (',', 23),\n",
       " ('TNGT', 18),\n",
       " ('não', 14),\n",
       " ('T', 14),\n",
       " ('Chấn', 12),\n",
       " ('động', 12),\n",
       " (':', 11),\n",
       " ('đỉnh', 9),\n",
       " ('xương', 9)]"
      ]
     },
     "execution_count": 134,
     "metadata": {},
     "output_type": "execute_result"
    }
   ],
   "source": [
    "#find the frequency of words\n",
    "fdist = FreqDist(words)\n",
    "\n",
    "#print the 10 most common words\n",
    "fdist.most_common(10)"
   ]
  },
  {
   "cell_type": "code",
   "execution_count": 135,
   "metadata": {},
   "outputs": [
    {
     "name": "stdout",
     "output_type": "stream",
     "text": [
      "The total number of words without punctuation is 343\n"
     ]
    }
   ],
   "source": [
    "#create an empty list to store words\n",
    "words_no_punc = []\n",
    "\n",
    "#iterate through the words list to remove punctuations\n",
    "for word in words:\n",
    "    if word.isalpha():\n",
    "        words_no_punc.append(word.lower())\n",
    "\n",
    "#print number of words without punctuation\n",
    "print(f\"The total number of words without punctuation is {len(words_no_punc)}\")"
   ]
  },
  {
   "cell_type": "code",
   "execution_count": 136,
   "metadata": {},
   "outputs": [
    {
     "data": {
      "image/png": "[encoded data removed]",
      "text/plain": [
       "<Figure size 640x480 with 1 Axes>"
      ]
     },
     "metadata": {},
     "output_type": "display_data"
    }
   ],
   "source": [
    "#find the frequency of words\n",
    "fdist = FreqDist(words_no_punc)\n",
    "\n",
    "#Plot the 10 most common words\n",
    "fdist.plot(10)\n",
    "plt.show()"
   ]
  },
  {
   "cell_type": "code",
   "execution_count": 137,
   "metadata": {},
   "outputs": [
    {
     "name": "stdout",
     "output_type": "stream",
     "text": [
      "['i', 'me', 'my', 'myself', 'we', 'our', 'ours', 'ourselves', 'you', \"you're\", \"you've\", \"you'll\", \"you'd\", 'your', 'yours', 'yourself', 'yourselves', 'he', 'him', 'his', 'himself', 'she', \"she's\", 'her', 'hers', 'herself', 'it', \"it's\", 'its', 'itself', 'they', 'them', 'their', 'theirs', 'themselves', 'what', 'which', 'who', 'whom', 'this', 'that', \"that'll\", 'these', 'those', 'am', 'is', 'are', 'was', 'were', 'be', 'been', 'being', 'have', 'has', 'had', 'having', 'do', 'does', 'did', 'doing', 'a', 'an', 'the', 'and', 'but', 'if', 'or', 'because', 'as', 'until', 'while', 'of', 'at', 'by', 'for', 'with', 'about', 'against', 'between', 'into', 'through', 'during', 'before', 'after', 'above', 'below', 'to', 'from', 'up', 'down', 'in', 'out', 'on', 'off', 'over', 'under', 'again', 'further', 'then', 'once', 'here', 'there', 'when', 'where', 'why', 'how', 'all', 'any', 'both', 'each', 'few', 'more', 'most', 'other', 'some', 'such', 'no', 'nor', 'not', 'only', 'own', 'same', 'so', 'than', 'too', 'very', 's', 't', 'can', 'will', 'just', 'don', \"don't\", 'should', \"should've\", 'now', 'd', 'll', 'm', 'o', 're', 've', 'y', 'ain', 'aren', \"aren't\", 'couldn', \"couldn't\", 'didn', \"didn't\", 'doesn', \"doesn't\", 'hadn', \"hadn't\", 'hasn', \"hasn't\", 'haven', \"haven't\", 'isn', \"isn't\", 'ma', 'mightn', \"mightn't\", 'mustn', \"mustn't\", 'needn', \"needn't\", 'shan', \"shan't\", 'shouldn', \"shouldn't\", 'wasn', \"wasn't\", 'weren', \"weren't\", 'won', \"won't\", 'wouldn', \"wouldn't\"]\n"
     ]
    },
    {
     "name": "stderr",
     "output_type": "stream",
     "text": [
      "[nltk_data] Downloading package stopwords to\n",
      "[nltk_data]     C:\\Users\\hp\\AppData\\Roaming\\nltk_data...\n",
      "[nltk_data]   Package stopwords is already up-to-date!\n"
     ]
    }
   ],
   "source": [
    "#Download and import list of stopwords\n",
    "nltk.download(\"stopwords\")\n",
    "from nltk.corpus import stopwords\n",
    "\n",
    "#list of stopwords\n",
    "stopwords_list = stopwords.words(\"english\")\n",
    "print(stopwords_list)"
   ]
  },
  {
   "cell_type": "code",
   "execution_count": 138,
   "metadata": {},
   "outputs": [
    {
     "name": "stdout",
     "output_type": "stream",
     "text": [
      "The total number of words without punctuation and stopwords is 302\n"
     ]
    }
   ],
   "source": [
    "#create an empty list to store clean words\n",
    "clean_words = []\n",
    "\n",
    "#Iterate through the words_no_punc list and add non stopwords to the new clean_words list\n",
    "for word in words_no_punc:\n",
    "    if word not in stopwords_list:\n",
    "        clean_words.append(word)\n",
    "\n",
    "print(f\"The total number of words without punctuation and stopwords is {len(clean_words)}\")"
   ]
  },
  {
   "cell_type": "code",
   "execution_count": 139,
   "metadata": {},
   "outputs": [
    {
     "data": {
      "image/png": "[encoded data removed]",
      "text/plain": [
       "<Figure size 640x480 with 1 Axes>"
      ]
     },
     "metadata": {},
     "output_type": "display_data"
    }
   ],
   "source": [
    "#find the frequency of words\n",
    "fdist = FreqDist(clean_words)\n",
    "\n",
    "#Plot the 10 most common words\n",
    "fdist.plot(10)\n",
    "plt.show()"
   ]
  },
  {
   "cell_type": "code",
   "execution_count": 140,
   "metadata": {},
   "outputs": [],
   "source": [
    "#Update the stopwords list\n",
    "stopwords_list.extend([\"said\",\"one\",\"like\",\"came\",\"back\"])\n",
    "\n",
    "#create an empty list to store clean words\n",
    "clean_words = []\n",
    "\n",
    "#Iterate through the words_no_punc list and add non stopwords to the new clean_words list\n",
    "for word in words_no_punc:\n",
    "    if word not in stopwords_list:\n",
    "        clean_words.append(word)"
   ]
  },
  {
   "cell_type": "code",
   "execution_count": 141,
   "metadata": {},
   "outputs": [
    {
     "name": "stdout",
     "output_type": "stream",
     "text": [
      "no se chay ra cai nay dau tien\n",
      "func2\n",
      "no vua thuc hien function\n"
     ]
    }
   ],
   "source": [
    "def function1(func):\n",
    "    def functrong():\n",
    "        print(\"no se chay ra cai nay dau tien\")\n",
    "        func()\n",
    "        print(\"no vua thuc hien function\")\n",
    "    return functrong\n",
    "\n",
    "@function1\n",
    "def func2():\n",
    "    print(\"func2\")\n",
    "    \n",
    "func2()\n"
   ]
  },
  {
   "cell_type": "code",
   "execution_count": 142,
   "metadata": {},
   "outputs": [],
   "source": [
    "dataset_acronym = pd.read_csv(r\"E:\\BACHKHOA\\2023_2\\Mica\\ViTBERT\\unique_np_words_with_sentences - Sheet1.csv\")"
   ]
  },
  {
   "cell_type": "code",
   "execution_count": 143,
   "metadata": {},
   "outputs": [
    {
     "data": {
      "text/html": [
       "<div>\n",
       "<style scoped>\n",
       "    .dataframe tbody tr th:only-of-type {\n",
       "        vertical-align: middle;\n",
       "    }\n",
       "\n",
       "    .dataframe tbody tr th {\n",
       "        vertical-align: top;\n",
       "    }\n",
       "\n",
       "    .dataframe thead th {\n",
       "        text-align: right;\n",
       "    }\n",
       "</style>\n",
       "<table border=\"1\" class=\"dataframe\">\n",
       "  <thead>\n",
       "    <tr style=\"text-align: right;\">\n",
       "      <th></th>\n",
       "      <th>Sentences</th>\n",
       "      <th>Word</th>\n",
       "      <th>Meaning</th>\n",
       "    </tr>\n",
       "  </thead>\n",
       "  <tbody>\n",
       "    <tr>\n",
       "      <th>0</th>\n",
       "      <td>CTSN MTTN  DNXH trán P MTDMC trán TD 2 bên XHD...</td>\n",
       "      <td>CTSN</td>\n",
       "      <td>Chấn thương sọ não</td>\n",
       "    </tr>\n",
       "    <tr>\n",
       "      <th>1</th>\n",
       "      <td>CTSN MTTN  DNXH trán P MTDMC trán TD 2 bên XHD...</td>\n",
       "      <td>MTTN</td>\n",
       "      <td>Máu tụ trong não</td>\n",
       "    </tr>\n",
       "    <tr>\n",
       "      <th>2</th>\n",
       "      <td>CTSN MTTN  DNXH trán P MTDMC trán TD 2 bên XHD...</td>\n",
       "      <td>P</td>\n",
       "      <td>Phải</td>\n",
       "    </tr>\n",
       "    <tr>\n",
       "      <th>3</th>\n",
       "      <td>CTSN MTTN  DNXH trán P MTDMC trán TD 2 bên XHD...</td>\n",
       "      <td>TD</td>\n",
       "      <td>Thái dương</td>\n",
       "    </tr>\n",
       "    <tr>\n",
       "      <th>4</th>\n",
       "      <td>CTSN MTTN  DNXH trán P MTDMC trán TD 2 bên XHD...</td>\n",
       "      <td>Sai</td>\n",
       "      <td>Sai</td>\n",
       "    </tr>\n",
       "  </tbody>\n",
       "</table>\n",
       "</div>"
      ],
      "text/plain": [
       "                                           Sentences   Word  \\\n",
       "0  CTSN MTTN  DNXH trán P MTDMC trán TD 2 bên XHD...  CTSN    \n",
       "1  CTSN MTTN  DNXH trán P MTDMC trán TD 2 bên XHD...  MTTN    \n",
       "2  CTSN MTTN  DNXH trán P MTDMC trán TD 2 bên XHD...     P    \n",
       "3  CTSN MTTN  DNXH trán P MTDMC trán TD 2 bên XHD...    TD    \n",
       "4  CTSN MTTN  DNXH trán P MTDMC trán TD 2 bên XHD...    Sai   \n",
       "\n",
       "              Meaning  \n",
       "0  Chấn thương sọ não  \n",
       "1   Máu tụ trong não   \n",
       "2                Phải  \n",
       "3         Thái dương   \n",
       "4                 Sai  "
      ]
     },
     "execution_count": 143,
     "metadata": {},
     "output_type": "execute_result"
    }
   ],
   "source": [
    "dataset_acronym.head()"
   ]
  },
  {
   "cell_type": "code",
   "execution_count": 144,
   "metadata": {},
   "outputs": [
    {
     "data": {
      "text/html": [
       "<div>\n",
       "<style scoped>\n",
       "    .dataframe tbody tr th:only-of-type {\n",
       "        vertical-align: middle;\n",
       "    }\n",
       "\n",
       "    .dataframe tbody tr th {\n",
       "        vertical-align: top;\n",
       "    }\n",
       "\n",
       "    .dataframe thead th {\n",
       "        text-align: right;\n",
       "    }\n",
       "</style>\n",
       "<table border=\"1\" class=\"dataframe\">\n",
       "  <thead>\n",
       "    <tr style=\"text-align: right;\">\n",
       "      <th></th>\n",
       "      <th>Sentences</th>\n",
       "      <th>Word</th>\n",
       "      <th>Meaning</th>\n",
       "    </tr>\n",
       "  </thead>\n",
       "  <tbody>\n",
       "    <tr>\n",
       "      <th>count</th>\n",
       "      <td>130</td>\n",
       "      <td>132</td>\n",
       "      <td>94</td>\n",
       "    </tr>\n",
       "    <tr>\n",
       "      <th>unique</th>\n",
       "      <td>73</td>\n",
       "      <td>125</td>\n",
       "      <td>90</td>\n",
       "    </tr>\n",
       "    <tr>\n",
       "      <th>top</th>\n",
       "      <td>CTSN MTTN  DNXH trán P MTDMC trán TD 2 bên XHD...</td>\n",
       "      <td>TD</td>\n",
       "      <td>Phải</td>\n",
       "    </tr>\n",
       "    <tr>\n",
       "      <th>freq</th>\n",
       "      <td>9</td>\n",
       "      <td>2</td>\n",
       "      <td>2</td>\n",
       "    </tr>\n",
       "  </tbody>\n",
       "</table>\n",
       "</div>"
      ],
      "text/plain": [
       "                                                Sentences Word Meaning\n",
       "count                                                 130  132      94\n",
       "unique                                                 73  125      90\n",
       "top     CTSN MTTN  DNXH trán P MTDMC trán TD 2 bên XHD...  TD     Phải\n",
       "freq                                                    9    2       2"
      ]
     },
     "execution_count": 144,
     "metadata": {},
     "output_type": "execute_result"
    }
   ],
   "source": [
    "dataset_acronym.describe()"
   ]
  },
  {
   "cell_type": "code",
   "execution_count": 145,
   "metadata": {},
   "outputs": [
    {
     "data": {
      "text/plain": [
       "Index(['Sentences', 'Word', 'Meaning'], dtype='object')"
      ]
     },
     "execution_count": 145,
     "metadata": {},
     "output_type": "execute_result"
    }
   ],
   "source": [
    "dataset_acronym.columns          "
   ]
  },
  {
   "cell_type": "code",
   "execution_count": 146,
   "metadata": {},
   "outputs": [
    {
     "name": "stdout",
     "output_type": "stream",
     "text": [
      "Total missing values: 40\n",
      "Missing values per column:\n",
      "Sentences     2\n",
      "Word          0\n",
      "Meaning      38\n",
      "dtype: int64\n"
     ]
    }
   ],
   "source": [
    "import pandas as pd\n",
    "import numpy as np\n",
    "\n",
    "# Count total missing values\n",
    "total_missing = dataset_acronym.isnull().sum().sum()\n",
    "print(f\"Total missing values: {total_missing}\")\n",
    "\n",
    "# Count missing values per column\n",
    "missing_per_column = dataset_acronym.isnull().sum()\n",
    "print(\"Missing values per column:\")\n",
    "print(missing_per_column)\n"
   ]
  },
  {
   "cell_type": "code",
   "execution_count": 147,
   "metadata": {},
   "outputs": [],
   "source": [
    "dataset_acronym= dataset_acronym[dataset_acronym.columns[1:]]"
   ]
  },
  {
   "cell_type": "code",
   "execution_count": 148,
   "metadata": {},
   "outputs": [
    {
     "data": {
      "text/html": [
       "<div>\n",
       "<style scoped>\n",
       "    .dataframe tbody tr th:only-of-type {\n",
       "        vertical-align: middle;\n",
       "    }\n",
       "\n",
       "    .dataframe tbody tr th {\n",
       "        vertical-align: top;\n",
       "    }\n",
       "\n",
       "    .dataframe thead th {\n",
       "        text-align: right;\n",
       "    }\n",
       "</style>\n",
       "<table border=\"1\" class=\"dataframe\">\n",
       "  <thead>\n",
       "    <tr style=\"text-align: right;\">\n",
       "      <th></th>\n",
       "      <th>Word</th>\n",
       "      <th>Meaning</th>\n",
       "    </tr>\n",
       "  </thead>\n",
       "  <tbody>\n",
       "    <tr>\n",
       "      <th>0</th>\n",
       "      <td>CTSN</td>\n",
       "      <td>Chấn thương sọ não</td>\n",
       "    </tr>\n",
       "    <tr>\n",
       "      <th>1</th>\n",
       "      <td>MTTN</td>\n",
       "      <td>Máu tụ trong não</td>\n",
       "    </tr>\n",
       "    <tr>\n",
       "      <th>2</th>\n",
       "      <td>P</td>\n",
       "      <td>Phải</td>\n",
       "    </tr>\n",
       "    <tr>\n",
       "      <th>3</th>\n",
       "      <td>TD</td>\n",
       "      <td>Thái dương</td>\n",
       "    </tr>\n",
       "    <tr>\n",
       "      <th>4</th>\n",
       "      <td>Sai</td>\n",
       "      <td>Sai</td>\n",
       "    </tr>\n",
       "  </tbody>\n",
       "</table>\n",
       "</div>"
      ],
      "text/plain": [
       "    Word             Meaning\n",
       "0  CTSN   Chấn thương sọ não\n",
       "1  MTTN    Máu tụ trong não \n",
       "2     P                 Phải\n",
       "3    TD          Thái dương \n",
       "4    Sai                 Sai"
      ]
     },
     "execution_count": 148,
     "metadata": {},
     "output_type": "execute_result"
    }
   ],
   "source": [
    "dataset_acronym.head()"
   ]
  },
  {
   "cell_type": "code",
   "execution_count": 149,
   "metadata": {},
   "outputs": [
    {
     "name": "stdout",
     "output_type": "stream",
     "text": [
      "{'firstkey': 'some value', 'secondkey': 'another value', 'thirdkey': ' value with spaces '}\n"
     ]
    }
   ],
   "source": [
    "def remove_spaces_from_keys(input_dict):\n",
    "    \"\"\"Remove spaces from the keys of a dictionary, keeping the values unchanged.\n",
    "    \n",
    "    Args:\n",
    "    input_dict (dict): The original dictionary.\n",
    "    \n",
    "    Returns:\n",
    "    dict: A new dictionary with spaces removed from keys.\n",
    "    \"\"\"\n",
    "    new_dict = {}\n",
    "    for key, value in input_dict.items():\n",
    "        # Convert the key to string and then replace spaces\n",
    "        new_key = str(key).replace(\" \", \"\")\n",
    "        new_dict[new_key] = value\n",
    "    return new_dict\n",
    "\n",
    "# Example usage\n",
    "original_dict = {\"first key\": \"some value\", \"secondkey\": \"another value\", \" third key \": \" value with spaces \"}\n",
    "cleaned_dict = remove_spaces_from_keys(original_dict)\n",
    "print(cleaned_dict)\n"
   ]
  },
  {
   "cell_type": "code",
   "execution_count": 150,
   "metadata": {},
   "outputs": [],
   "source": [
    "def dataframe_to_dict(df):\n",
    "    \"\"\"\n",
    "    Convert a dataframe with 2 columns into a dictionary.\n",
    "    Key is column 1 and value is corresponding column 2.\n",
    "    If column 2 is missing data, replace it with the same value in column 1.\n",
    "    \"\"\"\n",
    "    # Replace missing values in column 2 with the values from column 1\n",
    "    df.iloc[:, 1] = df.iloc[:, 1].fillna(df.iloc[:, 0])\n",
    "    \n",
    "    # Convert the dataframe into a dictionary\n",
    "    result_dict = df.set_index(df.columns[0]).to_dict()[df.columns[1]]\n",
    "    result_dict = remove_spaces_from_keys(result_dict)\n",
    "    return result_dict\n",
    "dict_acronym = dataframe_to_dict(dataset_acronym)"
   ]
  },
  {
   "cell_type": "code",
   "execution_count": 151,
   "metadata": {},
   "outputs": [
    {
     "name": "stdout",
     "output_type": "stream",
     "text": [
      "{'CTSN': 'Chấn thương sọ não', 'MTTN': 'Máu tụ trong não ', 'P': 'Phải', 'TD': 'Thái dương', 'Sai': 'Sai', 'TNGT': 'Tai nạn giao thông ', 'G5': 'giờ thứ 5', 'THA': 'Tăng huyết áp', 'ĐTĐ': 'đái tháo đường', 'MTDMC': 'Máu tụ dưới màng cứng', 'XHDN': 'Xuất huyết dưới nhện ', 'CTGM': 'CTGM', 'G2': 'G2', 'TN': 'tiểu não', 'T': 'trái', 'N6': 'N6', 'BC': 'bán cầu', 'VTPM': 'vết thương phần mềm', 'G4': 'G4', 'L1': 'L1', 'MTNMC': 'Máu tụ ngoài màng cứng', 'Đa': 'Đa', 'CTNK': 'CTNK', 'KMP': 'KMP', 'XS': 'Xương sườn', 'N3': 'N3', 'Gãy': 'Gãy', 'N5': 'N5', 'DNXH': 'Dập não xuất huyết', 'G3': 'g3', 'N': 'N', 'D': 'D', 'TKNS': 'Tụ khí nội sọ', 'CTHM': 'chấn thương hàm mặt', 'Vỡ': 'Vỡ', 'CĐ': 'chẩn đoán', 'CTCT': 'chấn thương chi thể', 'L4': 'L4', 'CTBK': 'chấn thương bụng kín', 'III': 'III', 'IV': 'IV', 'IIIdoTNGT': 'Tai nạn giao thông', 'VTPMTD': 'VTPM TD', 'G6': 'G6', 'VT': 'Vết thương', 'N1': 'N1', 'VTN1': 'VT N1', 'P.': 'Phải', 'TNGTG2': 'Tai nạn', 'PT': 'PT', 'N2': 'N2', 'NT': 'NT', 'G10': 'G10', 'VTPMN2': 'VTPM N2', 'TNGTG4': 'TNGT G4', 'CTCS-TS': 'chấn thương cột sống tuỷ sống', 'TNGTG3CTSN': 'TNGT G3CTSN', 'TKKMP': 'tràn khí khoang màng phổi', 'TNLĐ': 'tai nạn lao động', 'CĐN': 'CĐN', 'PTCTSN': 'PT CTSN', 'G12': 'G12', 'ĐN': 'Đại não', 'N4': 'N4', 'MTMNC': 'MTMNC', 'G11': 'G11', 'G7': 'G7', 'II': 'II', 'Gout': 'Gout', 'Máu': 'máu', 'DMC': 'Dưới màng cứng', 'BCT': 'BC T', 'VII': 'VII', 'G15': 'G15', 'ĐQN': 'Đột quỵ não', 'G13': 'G13', 'GMCT': ' gò mà cung tiếp ', 'G21': 'G21', 'TNSHG8': 'TNSH G8', 'CTSCTL': 'chấn thương cột sống thắt lưng', 'ĐS': 'đốt sống', 'CT': 'Chấn thương', 'G8': 'G8', 'Đặt': 'Đặt', 'StentĐMV': 'Stent Động mạch vành', 'CTGMT': 'CTGM T', 'XSIV': 'XS IV', 'V': 'V', 'Bầm': 'Bầm', 'Sốc': 'Sốc', 'ĐCT': 'ĐCT', 'Dập': 'Dập', 'TM': 'Tụ máu', 'CTCS': 'CTCS', 'DNXHTD': 'Dập não xuất huyết thái dương', 'TDKMPP': 'tràn dịch khoang màng phổi phải', 'Xở': 'Xơ', 'DL': 'Di lệch', 'G1': 'G1', 'GK': 'gãy kín', 'G14': 'G14', 'CTCSTS': 'chấn thương cột sống tuỷ sống', 'D11': 'D11', 'FrankelA': 'Frankel A', 'TDKMPT': 'TDKMP T', 'RLĐM': 'rối loạn đông máu', 'RLNT': 'RLNT', 'TSLT': 'tăng sản lành tính', 'TLT': 'tuyến tiền liệt', 'Viêm': 'Viêm', 'G16': 'giờ thứ 16', 'N10': 'ngày thứ 10', 'TNSH': 'tai nạn sinh hoạt', 'TNKS': 'tụ khí nội sọ', 'PTMSGA': 'phẫu thuật mở sọ giảm áp', 'TN2': 'T N2', 'MSGABC': 'mở sọ giảm áp bán cầu', 'CTCSTL': 'chấn thương cột sống thắt lưng', 'CTSNN': 'chấn thương sọ não nặng'}\n"
     ]
    }
   ],
   "source": [
    "print(dict_acronym)"
   ]
  },
  {
   "cell_type": "code",
   "execution_count": 152,
   "metadata": {},
   "outputs": [
    {
     "name": "stdout",
     "output_type": "stream",
     "text": [
      "ctsn: mttn, dập não xuất huyết trán p, máu tụ dưới màng cứng trán thái dương 2 bên, xuất huyết dưới nhện  trán phải + liềm đại não. sai khớp háng p, vết thương do tai nạn giao thông  giờ thứ 5 / tha, đái tháo đường\n"
     ]
    }
   ],
   "source": [
    "def replace_word(str,dict):\n",
    "    words = str.split()\n",
    "    word_need = []\n",
    "    for word in words:\n",
    "        for key,value in dict.items():\n",
    "            if word == key:\n",
    "                word = value\n",
    "        word_need.append(word.lower())\n",
    "    return ' '.join(word_need)\n",
    "\n",
    "random = \"CTSN: MTTN,  DNXH trán P, MTDMC trán TD 2 bên, XHDN trán P + liềm đại não. Sai khớp háng P, vết thương do TNGT G5 / THA, ĐTĐ\"\n",
    "\n",
    "print(replace_word(random,dict_acronym))"
   ]
  },
  {
   "cell_type": "code",
   "execution_count": 153,
   "metadata": {},
   "outputs": [],
   "source": [
    "def clear_punctuation(input_string):\n",
    "    # Define the characters to remove\n",
    "    characters_to_remove = [\":\", \",\", \".\", \"/\", \"(\", \")\", \"-\",\";\"]\n",
    "    characters_plus = \"+\"\n",
    "    # Replace each character with an empty string\n",
    "    for char in characters_to_remove:\n",
    "        input_string = input_string.replace(char, \"\")\n",
    "    for char in characters_plus:\n",
    "        input_string = input_string.replace(char, \" và \")\n",
    "    \n",
    "    return input_string"
   ]
  },
  {
   "cell_type": "code",
   "execution_count": 154,
   "metadata": {},
   "outputs": [
    {
     "name": "stdout",
     "output_type": "stream",
     "text": [
      "chấn thương sọ não máu tụ trong não  dập não xuất huyết trán phải máu tụ dưới màng cứng trán thái dương 2 bên xuất huyết dưới nhện  trán phải và liềm đại não sai khớp háng phải vết thương do tai nạn giao thông  giờ thứ 5 tăng huyết áp đái tháo đường\n"
     ]
    }
   ],
   "source": [
    "text_ex = replace_word(clear_punctuation(random),dict_acronym)\n",
    "print(text_ex)"
   ]
  },
  {
   "cell_type": "code",
   "execution_count": 155,
   "metadata": {},
   "outputs": [
    {
     "data": {
      "text/plain": [
       "'chấn_thương sọ não máu tụ trong não dập não xuất_huyết trán phải máu tụ dưới màng_cứng trán thái_dương 2 bên xuất_huyết dưới nhện trán phải và liềm đại_não sai khớp háng phải vết_thương do tai_nạn giao_thông giờ thứ 5 tăng huyết_áp đái_tháo_đường'"
      ]
     },
     "execution_count": 155,
     "metadata": {},
     "output_type": "execute_result"
    }
   ],
   "source": [
    "import vncorenlp\n",
    "from vncorenlp import VnCoreNLP \n",
    "rdrsegmenter = VnCoreNLP(r\"E:\\BACHKHOA\\2023_2\\Mica\\ViTBERT\\VnCoreNLP\\VnCoreNLP-1.1.1.jar\", annotators=\"wseg\", max_heap_size='-Xmx500m') \n",
    "sentences = rdrsegmenter.tokenize(text_ex) \n",
    "for sentence in sentences:\n",
    "    a = \" \".join(sentence)\n",
    "\n",
    "a\n"
   ]
  },
  {
   "cell_type": "code",
   "execution_count": 156,
   "metadata": {},
   "outputs": [],
   "source": [
    "data_train_after = pd.read_csv(r\"E:\\BACHKHOA\\2023_2\\Mica\\ViTBERT\\After_train.csv\")\n",
    "data_test_after = pd.read_csv(r\"E:\\BACHKHOA\\2023_2\\Mica\\ViTBERT\\After_test.csv\")"
   ]
  },
  {
   "cell_type": "code",
   "execution_count": 157,
   "metadata": {},
   "outputs": [],
   "source": [
    "data_train_after[\"d_kl_cd_3\"] = data_train_after.apply(lambda row: clear_punctuation(row[\"d_kl_cd_3\"]), axis=1)"
   ]
  },
  {
   "cell_type": "code",
   "execution_count": 158,
   "metadata": {},
   "outputs": [],
   "source": [
    "data_train_after[\"d_kl_cd_3\"] = data_train_after.apply(lambda row: replace_word(row[\"d_kl_cd_3\"], dict_acronym), axis=1)"
   ]
  },
  {
   "cell_type": "code",
   "execution_count": 159,
   "metadata": {},
   "outputs": [],
   "source": [
    "data_test_after[\"d_kl_cd_3\"] = data_test_after.apply(lambda row: clear_punctuation(row[\"d_kl_cd_3\"]), axis=1)"
   ]
  },
  {
   "cell_type": "code",
   "execution_count": 160,
   "metadata": {},
   "outputs": [],
   "source": [
    "data_test_after[\"d_kl_cd_3\"] = data_test_after.apply(lambda row: replace_word(row[\"d_kl_cd_3\"], dict_acronym), axis=1)"
   ]
  },
  {
   "cell_type": "code",
   "execution_count": 161,
   "metadata": {},
   "outputs": [],
   "source": [
    "def segment_text(text):\n",
    "    \"\"\"Segments a given text into words using VnCoreNLP.\n",
    "    \n",
    "    Args:\n",
    "    text (str): The text to segment.\n",
    "    \n",
    "    Returns:\n",
    "    str: The segmented text.\n",
    "    \"\"\"\n",
    "    segmented = rdrsegmenter.tokenize(text)\n",
    "    # Join segmented words with spaces\n",
    "    return ' '.join([' '.join(words) for words in segmented])\n"
   ]
  },
  {
   "cell_type": "code",
   "execution_count": 162,
   "metadata": {},
   "outputs": [],
   "source": [
    "data_train_after[\"d_kl_cd_3\"] = data_train_after[\"d_kl_cd_3\"].apply(segment_text)\n",
    "data_test_after[\"d_kl_cd_3\"] = data_test_after[\"d_kl_cd_3\"].apply(segment_text)"
   ]
  },
  {
   "cell_type": "code",
   "execution_count": 163,
   "metadata": {},
   "outputs": [],
   "source": [
    "data_train_after.to_csv(\"donedataset_train.csv\", index = False)\n",
    "data_test_after.to_csv(\"donedataset_test.csv\", index = False)\n"
   ]
  },
  {
   "cell_type": "code",
   "execution_count": 164,
   "metadata": {},
   "outputs": [
    {
     "data": {
      "text/html": [
       "<div>\n",
       "<style scoped>\n",
       "    .dataframe tbody tr th:only-of-type {\n",
       "        vertical-align: middle;\n",
       "    }\n",
       "\n",
       "    .dataframe tbody tr th {\n",
       "        vertical-align: top;\n",
       "    }\n",
       "\n",
       "    .dataframe thead th {\n",
       "        text-align: right;\n",
       "    }\n",
       "</style>\n",
       "<table border=\"1\" class=\"dataframe\">\n",
       "  <thead>\n",
       "    <tr style=\"text-align: right;\">\n",
       "      <th></th>\n",
       "      <th>d_kl_cd_3</th>\n",
       "      <th>d_kl_tl</th>\n",
       "    </tr>\n",
       "  </thead>\n",
       "  <tbody>\n",
       "    <tr>\n",
       "      <th>0</th>\n",
       "      <td>chấn_thương sọ não dập não xuất_huyết và vỡ xư...</td>\n",
       "      <td>2.0</td>\n",
       "    </tr>\n",
       "    <tr>\n",
       "      <th>1</th>\n",
       "      <td>chấn_thương sọ não nặng máu tụ dưới màng_cứng ...</td>\n",
       "      <td>3.0</td>\n",
       "    </tr>\n",
       "    <tr>\n",
       "      <th>2</th>\n",
       "      <td>chấn_thương sọ não xuất_huyết dưới nhện liềm đ...</td>\n",
       "      <td>3.0</td>\n",
       "    </tr>\n",
       "    <tr>\n",
       "      <th>3</th>\n",
       "      <td>chấn_thương sọ não tụ khí nội sọ thái_dương tr...</td>\n",
       "      <td>3.0</td>\n",
       "    </tr>\n",
       "    <tr>\n",
       "      <th>4</th>\n",
       "      <td>chấn_động não do bị đánh</td>\n",
       "      <td>2.0</td>\n",
       "    </tr>\n",
       "  </tbody>\n",
       "</table>\n",
       "</div>"
      ],
      "text/plain": [
       "                                           d_kl_cd_3  d_kl_tl\n",
       "0  chấn_thương sọ não dập não xuất_huyết và vỡ xư...      2.0\n",
       "1  chấn_thương sọ não nặng máu tụ dưới màng_cứng ...      3.0\n",
       "2  chấn_thương sọ não xuất_huyết dưới nhện liềm đ...      3.0\n",
       "3  chấn_thương sọ não tụ khí nội sọ thái_dương tr...      3.0\n",
       "4                           chấn_động não do bị đánh      2.0"
      ]
     },
     "execution_count": 164,
     "metadata": {},
     "output_type": "execute_result"
    }
   ],
   "source": [
    "data_train_after.head()"
   ]
  },
  {
   "cell_type": "code",
   "execution_count": 165,
   "metadata": {},
   "outputs": [
    {
     "data": {
      "text/plain": [
       "58"
      ]
     },
     "execution_count": 165,
     "metadata": {},
     "output_type": "execute_result"
    }
   ],
   "source": [
    "len(data_test_after)"
   ]
  },
  {
   "cell_type": "code",
   "execution_count": null,
   "metadata": {},
   "outputs": [],
   "source": []
  },
  {
   "cell_type": "code",
   "execution_count": null,
   "metadata": {},
   "outputs": [],
   "source": []
  },
  {
   "cell_type": "code",
   "execution_count": null,
   "metadata": {},
   "outputs": [],
   "source": []
  }
 ],
 "metadata": {
  "kernelspec": {
   "display_name": "vibert",
   "language": "python",
   "name": "python3"
  },
  "language_info": {
   "codemirror_mode": {
    "name": "ipython",
    "version": 3
   },
   "file_extension": ".py",
   "mimetype": "text/x-python",
   "name": "python",
   "nbconvert_exporter": "python",
   "pygments_lexer": "ipython3",
   "version": "3.10.12"
  }
 },
 "nbformat": 4,
 "nbformat_minor": 2
}
