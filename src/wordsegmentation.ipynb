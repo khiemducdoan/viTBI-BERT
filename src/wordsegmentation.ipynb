{
 "cells": [
  {
   "cell_type": "code",
   "execution_count": 3,
   "metadata": {},
   "outputs": [
    {
     "name": "stderr",
     "output_type": "stream",
     "text": [
      "sh: 1: java: not found\n"
     ]
    },
    {
     "data": {
      "text/plain": [
       "32512"
      ]
     },
     "execution_count": 3,
     "metadata": {},
     "output_type": "execute_result"
    }
   ],
   "source": [
    "import os\n",
    "os.system(\"java -version\")"
   ]
  },
  {
   "cell_type": "code",
   "execution_count": 5,
   "metadata": {},
   "outputs": [
    {
     "data": {
      "text/plain": [
       "'Tụ_khí nội_sọ trán - đỉnh phải xuất_huyết dưới nhện trán phải gãy trần ổ_mắt và thành trong ổ_mắt hai bên gãy xương chính mũi và vách ngăn mũi tụ_khí hốc_mắt và vết_thương phần_mềm trán trái do tai_nạn giao_thông'"
      ]
     },
     "execution_count": 5,
     "metadata": {},
     "output_type": "execute_result"
    }
   ],
   "source": [
    "from underthesea import word_tokenize\n",
    "text = \"Tụ khí nội sọ trán - đỉnh phải xuất huyết dưới nhện trán phải gãy trần ổ mắt và thành trong ổ mắt hai bên gãy xương chính mũi và vách ngăn mũi tụ khí hốc mắt và vết thương phần mềm trán trái do tai nạn giao thông\"\n",
    "\n",
    "\n",
    "\n",
    "word_tokenize(text, format=\"text\")\n"
   ]
  },
  {
   "cell_type": "code",
   "execution_count": null,
   "metadata": {},
   "outputs": [],
   "source": [
    "import py_vncorenlp\n",
    "\n",
    "# Automatically download VnCoreNLP components from the original repository\n",
    "# and save them in some local machine folder\n",
    "py_vncorenlp.download_model(save_dir='/media/data3/home/khiemdd/viBert/ViTBERT/vncorenlp')\n",
    "\n",
    "# Load the word and sentence segmentation component\n",
    "rdrsegmenter = py_vncorenlp.VnCoreNLP(annotators=[\"wseg\"], save_dir='/media/data3/home/khiemdd/viBert/ViTBERT/vncorenlp')\n",
    "\n",
    "text = \"Ông Nguyễn Khắc Chúc  đang làm việc tại Đại học Quốc gia Hà Nội. Bà Lan, vợ ông Chúc, cũng làm việc tại đây.\"\n",
    "\n",
    "output = rdrsegmenter.word_segment(text)\n",
    "\n",
    "print(output)\n",
    "# ['Ông Nguyễn_Khắc_Chúc đang làm_việc tại Đại_học Quốc_gia Hà_Nội .', 'Bà Lan , vợ ông Chúc , cũng làm_việc tại đây .']"
   ]
  }
 ],
 "metadata": {
  "kernelspec": {
   "display_name": "Python 3",
   "language": "python",
   "name": "python3"
  },
  "language_info": {
   "codemirror_mode": {
    "name": "ipython",
    "version": 3
   },
   "file_extension": ".py",
   "mimetype": "text/x-python",
   "name": "python",
   "nbconvert_exporter": "python",
   "pygments_lexer": "ipython3",
   "version": "3.10.12"
  }
 },
 "nbformat": 4,
 "nbformat_minor": 2
}
